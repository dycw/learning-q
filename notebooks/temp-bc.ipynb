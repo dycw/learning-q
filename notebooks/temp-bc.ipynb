{
 "cells": [
  {
   "cell_type": "code",
   "execution_count": 2,
   "id": "c55fb3b8-ad65-43ed-81b5-2587c9dcc7b4",
   "metadata": {},
   "outputs": [
    {
     "data": {
      "text/plain": [
       "time                          sym    bid     bsize   ask     asize  \n",
       "--------------------------------------------------------------------\n",
       "2021.02.01D12:00:00.001000000 GBPUSD 1.36    1000    1.375   1000   \n",
       "2021.02.01D12:00:00.125000000 MYRJPY 25.8    2000    25.92   2000   \n",
       "2021.02.01D12:02:12.331000000 JPYGBP 0.00684 15000   0.00691 15000  \n",
       "2021.02.01D12:03:14.893000000 MYRRUB 18.82   4000    18.829  4000   \n",
       "2021.02.01D12:06:45.014000000 CNHRUB 11.751  6000    11.755  6000   \n",
       "2021.02.01D12:08:55.255000000 CNHUSD 0.1543  50000   0.1545  50000  \n",
       "2021.02.01D12:10:11.582000000 JPYUSD 0.00942 4000000 0.00948 4000000\n"
      ]
     },
     "execution_count": 2,
     "metadata": {},
     "output_type": "execute_result"
    }
   ],
   "source": [
    "time: (2021.02.01D12:00:00.001; 2021.02.01D12:00:00.125; 2021.02.01D12:02:12.331; 2021.02.01D12:03:14.893; 2021.02.01D12:06:45.014; 2021.02.01D12:08:55.255; 2021.02.01D12:10:11.582)\n",
    "sym: `GBPUSD`MYRJPY`JPYGBP`MYRRUB`CNHRUB`CNHUSD`JPYUSD\n",
    "bid: 1.36 25.8 0.00684 18.82 11.751 0.1543 0.00942\n",
    "bsize: 1000 2000 15000 4000 6000 50000 4000000\n",
    "ask: 1.375 25.92 0.00691 18.829 11.755 0.1545 0.00948\n",
    "asize: 1000 2000 15000 4000 6000 50000 4000000\n",
    "\n",
    "QUOTES: flip `time`sym`bid`bsize`ask`asize! (time;sym;bid;bsize;ask;asize)\n",
    "QUOTES"
   ]
  },
  {
   "cell_type": "code",
   "execution_count": 6,
   "id": "18b94745-68ea-4e6f-a20f-8f451aa0894d",
   "metadata": {},
   "outputs": [],
   "source": [
    "symbol: `MYRUSD\n",
    "time: 2021.02.01D12:11:00"
   ]
  },
  {
   "cell_type": "code",
   "execution_count": 37,
   "id": "40129bba-fa24-47a9-b8ad-11adc33a631c",
   "metadata": {},
   "outputs": [
    {
     "data": {
      "text/plain": [
       "\"MYR\"\n"
      ]
     },
     "execution_count": 37,
     "metadata": {},
     "output_type": "execute_result"
    }
   ],
   "source": [
    "tmp: 3 cut string symbol\n",
    "sym_base: tmp[0]\n",
    "sym_quote: tmp[1]\n",
    "sym_base"
   ]
  },
  {
   "cell_type": "code",
   "execution_count": 41,
   "id": "79e85a17-0770-4706-8b6e-be80feb7cc03",
   "metadata": {},
   "outputs": [
    {
     "data": {
      "text/plain": [
       "time                          sym    bid     bsize   ask     asize   base\n",
       "-------------------------------------------------------------------------\n",
       "2021.02.01D12:00:00.001000000 GBPUSD 1.36    1000    1.375   1000    USD \n",
       "2021.02.01D12:00:00.125000000 MYRJPY 25.8    2000    25.92   2000    JPY \n",
       "2021.02.01D12:02:12.331000000 JPYGBP 0.00684 15000   0.00691 15000   GBP \n",
       "2021.02.01D12:03:14.893000000 MYRRUB 18.82   4000    18.829  4000    RUB \n",
       "2021.02.01D12:06:45.014000000 CNHRUB 11.751  6000    11.755  6000    RUB \n",
       "2021.02.01D12:08:55.255000000 CNHUSD 0.1543  50000   0.1545  50000   USD \n",
       "2021.02.01D12:10:11.582000000 JPYUSD 0.00942 4000000 0.00948 4000000 USD \n"
      ]
     },
     "execution_count": 41,
     "metadata": {},
     "output_type": "execute_result"
    }
   ],
   "source": [
    "QUOTES: update base:(\"S\" $ {x 0 1 2} each string each QUOTES[`sym]) from QUOTES\n",
    "QUOTES: update base:(\"S\" $ {x 3 4 5} each string each QUOTES[`sym]) from QUOTES\n",
    "QUOTES"
   ]
  },
  {
   "cell_type": "code",
   "execution_count": null,
   "id": "fb215c82-eb2b-40d5-94ee-cf4427b8db1c",
   "metadata": {},
   "outputs": [],
   "source": []
  },
  {
   "cell_type": "code",
   "execution_count": 33,
   "id": "610947e8-394b-4d9f-a7b2-f3983b6beff0",
   "metadata": {},
   "outputs": [
    {
     "data": {
      "text/plain": [
       "`GBP`MYR`JPY`MYR`CNH`CNH`JPY\n"
      ]
     },
     "execution_count": 33,
     "metadata": {},
     "output_type": "execute_result"
    }
   ],
   "source": [
    "m:\"S\" $ {x 0 1 2} each string each QUOTES[`sym]\n",
    "m"
   ]
  },
  {
   "cell_type": "code",
   "execution_count": 34,
   "id": "08cea706-70df-4fb9-94e6-784e369214b6",
   "metadata": {},
   "outputs": [
    {
     "data": {
      "text/plain": [
       "time                          sym    bid     bsize   ask     asize   base\n",
       "-------------------------------------------------------------------------\n",
       "2021.02.01D12:00:00.001000000 GBPUSD 1.36    1000    1.375   1000    GBP \n",
       "2021.02.01D12:00:00.125000000 MYRJPY 25.8    2000    25.92   2000    MYR \n",
       "2021.02.01D12:02:12.331000000 JPYGBP 0.00684 15000   0.00691 15000   JPY \n",
       "2021.02.01D12:03:14.893000000 MYRRUB 18.82   4000    18.829  4000    MYR \n",
       "2021.02.01D12:06:45.014000000 CNHRUB 11.751  6000    11.755  6000    CNH \n",
       "2021.02.01D12:08:55.255000000 CNHUSD 0.1543  50000   0.1545  50000   CNH \n",
       "2021.02.01D12:10:11.582000000 JPYUSD 0.00942 4000000 0.00948 4000000 JPY \n"
      ]
     },
     "execution_count": 34,
     "metadata": {},
     "output_type": "execute_result"
    }
   ],
   "source": [
    "update base:m from QUOTES"
   ]
  },
  {
   "cell_type": "code",
   "execution_count": 31,
   "id": "ec2dcee2-c1d6-4298-bac3-957cfd56c9b0",
   "metadata": {},
   "outputs": [
    {
     "data": {
      "text/plain": [
       "`foo\n"
      ]
     },
     "execution_count": 31,
     "metadata": {},
     "output_type": "execute_result"
    }
   ],
   "source": [
    "` $ \"foo\""
   ]
  }
 ],
 "metadata": {
  "kernelspec": {
   "display_name": "Q (kdb+)",
   "language": "q",
   "name": "qpk"
  },
  "language_info": {
   "file_extension": ".q",
   "mimetype": "text/x-q",
   "name": "q",
   "version": "4.1.0"
  }
 },
 "nbformat": 4,
 "nbformat_minor": 5
}
