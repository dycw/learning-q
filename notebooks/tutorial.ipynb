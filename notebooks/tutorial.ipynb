{
 "cells": [
  {
   "cell_type": "code",
   "execution_count": 1,
   "id": "29415300-25d5-448c-8ffb-e85777d9e847",
   "metadata": {},
   "outputs": [],
   "source": [
    "// Learn > Mountain tour > Begin here"
   ]
  },
  {
   "cell_type": "code",
   "execution_count": 2,
   "id": "a20099c5-32a4-485a-b3cc-270bf1cb0e80",
   "metadata": {},
   "outputs": [
    {
     "data": {
      "text/plain": [
       "4 5 6\n"
      ]
     },
     "execution_count": 2,
     "metadata": {},
     "output_type": "execute_result"
    }
   ],
   "source": [
    "2+2 3 4"
   ]
  },
  {
   "cell_type": "code",
   "execution_count": 6,
   "id": "c3c921a3-d0f2-490e-aa85-c8511f338329",
   "metadata": {},
   "outputs": [
    {
     "data": {
      "text/plain": [
       "3.141593\n"
      ]
     },
     "execution_count": 6,
     "metadata": {},
     "output_type": "execute_result"
    }
   ],
   "source": [
    "acos -1"
   ]
  },
  {
   "cell_type": "code",
   "execution_count": 7,
   "id": "b228b4bd-052f-471a-a7d0-28d1d5135721",
   "metadata": {},
   "outputs": [],
   "source": [
    "\\l ../data/sp.q"
   ]
  },
  {
   "cell_type": "code",
   "execution_count": 8,
   "id": "722ddaa9-da3d-4f3b-8e22-3c1fabb00251",
   "metadata": {},
   "outputs": [
    {
     "data": {
      "text/plain": [
       "`p`s`sp\n"
      ]
     },
     "execution_count": 8,
     "metadata": {},
     "output_type": "execute_result"
    }
   ],
   "source": [
    "\\a"
   ]
  },
  {
   "cell_type": "code",
   "execution_count": 9,
   "id": "d88d73e6-6a96-4b8d-ada6-2575571650a0",
   "metadata": {},
   "outputs": [
    {
     "data": {
      "text/plain": [
       "s  p  qty\n",
       "---------\n",
       "s1 p1 300\n",
       "s1 p2 200\n",
       "s1 p3 400\n",
       "s1 p4 200\n",
       "s4 p5 100\n",
       "s1 p6 100\n",
       "s2 p1 300\n",
       "s2 p2 400\n",
       "s3 p2 200\n",
       "s4 p2 200\n",
       "s4 p4 300\n",
       "s4 p5 400\n"
      ]
     },
     "execution_count": 9,
     "metadata": {},
     "output_type": "execute_result"
    }
   ],
   "source": [
    "sp"
   ]
  },
  {
   "cell_type": "code",
   "execution_count": null,
   "id": "28f499e2-d58e-49c1-a7ff-2fa96b71d8a0",
   "metadata": {},
   "outputs": [],
   "source": []
  }
 ],
 "metadata": {
  "kernelspec": {
   "display_name": "Q (kdb+)",
   "language": "q",
   "name": "qpk"
  },
  "language_info": {
   "file_extension": ".q",
   "mimetype": "text/x-q",
   "name": "q",
   "version": "4.1.0"
  }
 },
 "nbformat": 4,
 "nbformat_minor": 5
}
