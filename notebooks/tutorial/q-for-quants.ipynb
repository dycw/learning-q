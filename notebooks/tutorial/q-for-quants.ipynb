{
 "cells": [
  {
   "cell_type": "code",
   "execution_count": 2,
   "id": "60050d69-9bee-4762-b7d9-0a1eecb7eec2",
   "metadata": {},
   "outputs": [
    {
     "data": {
      "text/plain": [
       "time                 item   amount city   \n",
       "------------------------------------------\n",
       "0D00:00:00.514883548 banana 83     beijing\n",
       "0D00:00:01.027433574 apple  47     beijing\n",
       "0D00:00:01.097258180 pear   42     london \n",
       "0D00:00:01.165956258 banana 8      chicago\n",
       "0D00:00:01.176336407 orange 11     chicago\n",
       "0D00:00:01.188889145 banana 81     chicago\n",
       "0D00:00:01.235458999 pear   9      paris  \n",
       "0D00:00:01.562192291 apple  50     chicago\n",
       "0D00:00:01.600695401 banana 26     beijing\n",
       "0D00:00:01.658792048 banana 84     beijing\n",
       "0D00:00:01.729280501 apple  51     chicago\n",
       "0D00:00:01.822621375 banana 67     beijing\n",
       "0D00:00:01.921735703 banana 87     chicago\n",
       "0D00:00:02.002423256 apple  47     beijing\n",
       "0D00:00:02.330967038 orange 61     paris  \n",
       "0D00:00:02.443660050 pear   12     paris  \n",
       "0D00:00:02.483229339 apple  9      chicago\n",
       "0D00:00:02.641023695 banana 42     chicago\n",
       "0D00:00:02.643477916 pear   70     london \n",
       "0D00:00:02.662709355 banana 33     beijing\n",
       "..\n"
      ]
     },
     "execution_count": 2,
     "metadata": {},
     "output_type": "execute_result"
    }
   ],
   "source": [
    "n:1000000\n",
    "item:`apple`banana`orange`pear\n",
    "city:`beijing`chicago`london`paris\n",
    "tab:([]time:asc n?0D0;n?item;amount:n?100;n?city)\n",
    "tab"
   ]
  },
  {
   "cell_type": "code",
   "execution_count": 3,
   "id": "7d0baed8-f221-4b75-b5f9-8de36fc10de3",
   "metadata": {},
   "outputs": [
    {
     "data": {
      "text/plain": [
       "time                 item   amount city   \n",
       "------------------------------------------\n",
       "0D00:00:00.514883548 banana 83     beijing\n",
       "0D00:00:01.165956258 banana 8      chicago\n",
       "0D00:00:01.188889145 banana 81     chicago\n",
       "0D00:00:01.600695401 banana 26     beijing\n",
       "0D00:00:01.658792048 banana 84     beijing\n",
       "0D00:00:01.822621375 banana 67     beijing\n",
       "0D00:00:01.921735703 banana 87     chicago\n",
       "0D00:00:02.641023695 banana 42     chicago\n",
       "0D00:00:02.662709355 banana 33     beijing\n",
       "0D00:00:02.872665971 banana 77     beijing\n",
       "0D00:00:02.975361049 banana 72     beijing\n",
       "0D00:00:03.428003937 banana 0      beijing\n",
       "0D00:00:04.137575626 banana 71     beijing\n",
       "0D00:00:04.338680952 banana 25     paris  \n",
       "0D00:00:04.733911156 banana 39     beijing\n",
       "0D00:00:04.799551516 banana 27     chicago\n",
       "0D00:00:05.232258886 banana 83     beijing\n",
       "0D00:00:05.381946265 banana 26     beijing\n",
       "0D00:00:05.387297272 banana 3      london \n",
       "0D00:00:05.392064899 banana 2      paris  \n",
       "..\n"
      ]
     },
     "execution_count": 3,
     "metadata": {},
     "output_type": "execute_result"
    }
   ],
   "source": [
    "select from tab where item=`banana"
   ]
  },
  {
   "cell_type": "code",
   "execution_count": 4,
   "id": "3fdb7cd0-7ae3-47ed-8e81-8e9b3818ba46",
   "metadata": {},
   "outputs": [
    {
     "data": {
      "text/plain": [
       "city   | amount  \n",
       "-------| --------\n",
       "beijing| 12372867\n",
       "chicago| 12386690\n",
       "london | 12365167\n",
       "paris  | 12391087\n"
      ]
     },
     "execution_count": 4,
     "metadata": {},
     "output_type": "execute_result"
    }
   ],
   "source": [
    "select sum amount by city from tab"
   ]
  },
  {
   "cell_type": "code",
   "execution_count": 5,
   "id": "72725e13-c8bb-4857-bb5f-b9ea9d41a942",
   "metadata": {},
   "outputs": [
    {
     "data": {
      "text/plain": [
       "hh item  | amount\n",
       "---------| ------\n",
       "0  apple | 512677\n",
       "0  banana| 513268\n",
       "0  orange| 510985\n",
       "0  pear  | 512136\n",
       "1  apple | 514414\n",
       "1  banana| 504401\n",
       "1  orange| 517075\n",
       "1  pear  | 524474\n",
       "2  apple | 517816\n",
       "2  banana| 518120\n",
       "2  orange| 520761\n",
       "2  pear  | 517055\n",
       "3  apple | 528816\n",
       "3  banana| 513584\n",
       "3  orange| 511695\n",
       "3  pear  | 521034\n",
       "4  apple | 523317\n",
       "4  banana| 523027\n",
       "4  orange| 510743\n",
       "4  pear  | 516988\n",
       "..\n"
      ]
     },
     "execution_count": 5,
     "metadata": {},
     "output_type": "execute_result"
    }
   ],
   "source": [
    "select sum amount by time.hh,item from tab"
   ]
  },
  {
   "cell_type": "code",
   "execution_count": 6,
   "id": "2a52d1c4-b73b-473e-939d-70feddb78a59",
   "metadata": {},
   "outputs": [
    {
     "data": {
      "text/plain": [
       "0\n"
      ]
     },
     "execution_count": 6,
     "metadata": {},
     "output_type": "execute_result"
    }
   ],
   "source": [
    "\\t select from tab"
   ]
  },
  {
   "cell_type": "code",
   "execution_count": 7,
   "id": "be64011b-c832-4bc6-bc9a-e1872564095c",
   "metadata": {},
   "outputs": [],
   "source": [
    "\\l ../../scripts/calls.q"
   ]
  },
  {
   "cell_type": "code",
   "execution_count": 8,
   "id": "ff6572a8-f9f1-434d-8453-a2ca181009ea",
   "metadata": {},
   "outputs": [
    {
     "data": {
      "text/plain": [
       "time                          id  cpu\n",
       "-------------------------------------\n",
       "2024.06.18D08:48:49.320284698 727 39 \n",
       "2024.06.18D08:48:49.346940933 713 26 \n",
       "2024.06.18D08:48:49.362485261 873 36 \n",
       "2024.06.18D08:48:49.402988522 448 26 \n",
       "2024.06.18D08:48:49.439479738 690 28 \n",
       "2024.06.18D08:48:49.442683767 735 31 \n",
       "2024.06.18D08:48:49.473736921 516 46 \n",
       "2024.06.18D08:48:49.481942515 944 42 \n",
       "2024.06.18D08:48:49.506699281 77  28 \n",
       "2024.06.18D08:48:49.519568478 708 37 \n",
       "2024.06.18D08:48:49.532536964 661 42 \n",
       "2024.06.18D08:48:49.612858837 179 32 \n",
       "2024.06.18D08:48:49.622894154 910 25 \n",
       "2024.06.18D08:48:49.686705136 24  38 \n",
       "2024.06.18D08:48:49.695752283 339 36 \n",
       "2024.06.18D08:48:49.705855247 447 42 \n",
       "2024.06.18D08:48:49.756235435 451 31 \n",
       "2024.06.18D08:48:49.762623740 320 28 \n",
       "2024.06.18D08:48:49.791891800 637 36 \n",
       "2024.06.18D08:48:49.863339301 717 26 \n",
       "..\n"
      ]
     },
     "execution_count": 8,
     "metadata": {},
     "output_type": "execute_result"
    }
   ],
   "source": [
    "computer"
   ]
  },
  {
   "cell_type": "code",
   "execution_count": 9,
   "id": "e2cee70c-3763-43f0-ae91-335a00351d40",
   "metadata": {},
   "outputs": [
    {
     "data": {
      "text/plain": [
       "time                          id  severity\n",
       "------------------------------------------\n",
       "2024.06.18D08:49:42.853273967 825 1       \n",
       "2024.06.18D08:51:17.321178385 977 2       \n",
       "2024.06.18D08:52:43.509707072 528 3       \n",
       "2024.06.18D08:53:44.920257100 697 3       \n",
       "2024.06.18D08:54:12.865388164 104 3       \n",
       "2024.06.18D08:54:52.962434807 529 2       \n",
       "2024.06.18D08:55:57.400427678 922 2       \n",
       "2024.06.18D08:56:08.356312731 175 3       \n",
       "2024.06.18D08:57:15.242491880 617 3       \n",
       "2024.06.18D08:59:40.068803498 811 1       \n",
       "2024.06.18D09:00:05.012743839 494 1       \n",
       "2024.06.18D09:02:14.148132720 838 3       \n",
       "2024.06.18D09:02:26.379106411 984 2       \n",
       "2024.06.18D09:03:38.198370853 585 2       \n",
       "2024.06.18D09:03:55.390391865 925 3       \n",
       "2024.06.18D09:07:22.155112245 952 3       \n",
       "2024.06.18D09:07:40.981604376 804 1       \n",
       "2024.06.18D09:11:04.877702215 134 2       \n",
       "2024.06.18D09:12:40.002010235 66  1       \n",
       "2024.06.18D09:15:14.790649631 226 1       \n",
       "..\n"
      ]
     },
     "execution_count": 9,
     "metadata": {},
     "output_type": "execute_result"
    }
   ],
   "source": [
    "calls"
   ]
  },
  {
   "cell_type": "code",
   "execution_count": 10,
   "id": "c58a5cac-9941-4dfb-89cc-0f23da5d11f9",
   "metadata": {},
   "outputs": [
    {
     "data": {
      "text/plain": [
       "id| dept        os   \n",
       "--| -----------------\n",
       "0 | telesales   vista\n",
       "1 | management  win8 \n",
       "2 | finance     vista\n",
       "3 | finance     osx  \n",
       "4 | packing     vista\n",
       "5 | finance     osx  \n",
       "6 | finance     win7 \n",
       "7 | finance     vista\n",
       "8 | logistics   osx  \n",
       "9 | trading     win8 \n",
       "10| packing     osx  \n",
       "11| finance     win8 \n",
       "12| telesales   win7 \n",
       "13| hoopjumping osx  \n",
       "14| logistics   vista\n",
       "15| packing     win7 \n",
       "16| finance     osx  \n",
       "17| trading     osx  \n",
       "18| finance     vista\n",
       "19| management  osx  \n",
       "..\n"
      ]
     },
     "execution_count": 10,
     "metadata": {},
     "output_type": "execute_result"
    }
   ],
   "source": [
    "computerlookup"
   ]
  },
  {
   "cell_type": "code",
   "execution_count": 11,
   "id": "263f8b29-c1a5-4efb-a0b8-eda0ceb9ab98",
   "metadata": {},
   "outputs": [
    {
     "data": {
      "text/plain": [
       "calls         | 3000\n",
       "computer      | 7200000\n",
       "computerlookup| 1000\n",
       "tab           | 1000000\n"
      ]
     },
     "execution_count": 11,
     "metadata": {},
     "output_type": "execute_result"
    }
   ],
   "source": [
    "tables[]!count each value each tables[]"
   ]
  },
  {
   "cell_type": "code",
   "execution_count": 12,
   "id": "8f39043a-7788-423c-888c-9a536965a67e",
   "metadata": {},
   "outputs": [
    {
     "data": {
      "text/plain": [
       "id| mxc mnc avc     \n",
       "--| ----------------\n",
       "0 | 100 33  88.59667\n",
       "1 | 81  3   29.03111\n",
       "2 | 100 11  73.19889\n",
       "3 | 96  3   25.95694\n",
       "4 | 61  3   16.35764\n",
       "5 | 100 7   70.93972\n",
       "6 | 45  3   4.479861\n",
       "7 | 100 5   59.27861\n",
       "8 | 59  3   14.16764\n",
       "9 | 62  3   19.18639\n",
       "10| 53  3   13.215  \n",
       "11| 100 3   53.66361\n",
       "12| 57  3   6.851667\n",
       "13| 100 37  96.16736\n",
       "14| 26  3   3.138056\n",
       "15| 100 3   49.28236\n",
       "16| 82  3   15.81056\n",
       "17| 35  3   5.022222\n",
       "18| 81  3   22.51361\n",
       "19| 100 3   49.17292\n",
       "..\n"
      ]
     },
     "execution_count": 12,
     "metadata": {},
     "output_type": "execute_result"
    }
   ],
   "source": [
    "select mxc:max cpu,mnc:min cpu,avc:avg cpu by id from computer"
   ]
  },
  {
   "cell_type": "code",
   "execution_count": 13,
   "id": "650c2255-fc4c-42f7-b1ec-efd659d28ea6",
   "metadata": {},
   "outputs": [
    {
     "data": {
      "text/plain": [
       "id date      | mxc mnc avc     \n",
       "-------------| ----------------\n",
       "0  2024.06.18| 97  33  66.10977\n",
       "0  2024.06.19| 100 55  83.62778\n",
       "0  2024.06.20| 100 75  97.84455\n",
       "0  2024.06.21| 100 92  99.86449\n",
       "0  2024.06.22| 100 70  93.29028\n",
       "0  2024.06.23| 86  54  72.22873\n",
       "1  2024.06.18| 69  30  51.31908\n",
       "1  2024.06.19| 68  3   9.961779\n",
       "1  2024.06.20| 71  3   31.96738\n",
       "1  2024.06.21| 81  11  42.84931\n",
       "1  2024.06.22| 47  3   23.85893\n",
       "1  2024.06.23| 35  3   10.93573\n",
       "2  2024.06.18| 61  15  40.16557\n",
       "2  2024.06.19| 73  11  44.64698\n",
       "2  2024.06.20| 100 37  77.94795\n",
       "2  2024.06.21| 100 100 100     \n",
       "2  2024.06.22| 100 58  83.18958\n",
       "2  2024.06.23| 100 71  94.76894\n",
       "3  2024.06.18| 96  36  63.67069\n",
       "3  2024.06.19| 76  3   32.3789 \n",
       "..\n"
      ]
     },
     "execution_count": 13,
     "metadata": {},
     "output_type": "execute_result"
    }
   ],
   "source": [
    "select mxc:max cpu,mnc:min cpu,avc:avg cpu by id,time.date from computer"
   ]
  },
  {
   "cell_type": "code",
   "execution_count": 14,
   "id": "5630a3aa-3e58-4e24-93e0-efbd073ed148",
   "metadata": {},
   "outputs": [
    {
     "data": {
      "text/plain": [
       "id hh| mxc mnc avc     \n",
       "-----| ----------------\n",
       "0  0 | 100 64  87.96026\n",
       "0  1 | 100 61  87.31773\n",
       "0  2 | 100 61  86.59468\n",
       "0  3 | 100 66  86.40532\n",
       "0  4 | 100 54  86.93289\n",
       "0  5 | 100 59  90.47176\n",
       "0  6 | 100 71  92.91333\n",
       "0  7 | 100 57  89.84   \n",
       "0  8 | 100 33  89.06312\n",
       "0  9 | 100 34  85.20805\n",
       "0  10| 100 39  85.8543 \n",
       "0  11| 100 42  86.88   \n",
       "0  12| 100 41  87.46465\n",
       "0  13| 100 60  90.2053 \n",
       "0  14| 100 56  88.99003\n",
       "0  15| 100 53  88.26174\n",
       "0  16| 100 71  91.92333\n",
       "0  17| 100 64  90.96   \n",
       "0  18| 100 59  87.29667\n",
       "0  19| 100 62  89.03642\n",
       "..\n"
      ]
     },
     "execution_count": 14,
     "metadata": {},
     "output_type": "execute_result"
    }
   ],
   "source": [
    "select mxc:max cpu,mnc:min cpu,avc:avg cpu by id,time.hh from computer"
   ]
  },
  {
   "cell_type": "code",
   "execution_count": 15,
   "id": "1ca399ed-5f10-485c-99df-c7528bbd2ca6",
   "metadata": {},
   "outputs": [
    {
     "data": {
      "text/plain": [
       "id date       hh| mxc mnc avc     \n",
       "----------------| ----------------\n",
       "0  2024.06.18 8 | 43  33  37.25   \n",
       "0  2024.06.18 9 | 50  34  40.85   \n",
       "0  2024.06.18 10| 49  39  44.75   \n",
       "0  2024.06.18 11| 54  42  46.38333\n",
       "0  2024.06.18 12| 67  41  51.78333\n",
       "0  2024.06.18 13| 70  60  64.28814\n",
       "0  2024.06.18 14| 73  56  65.18033\n",
       "0  2024.06.18 15| 74  53  61.43333\n",
       "0  2024.06.18 16| 86  71  78.79661\n",
       "0  2024.06.18 17| 80  64  72.59016\n",
       "0  2024.06.18 18| 64  59  61.66667\n",
       "0  2024.06.18 19| 93  64  77.45   \n",
       "0  2024.06.18 20| 97  82  88.46667\n",
       "0  2024.06.18 21| 86  80  82.76271\n",
       "0  2024.06.18 22| 88  78  83.52459\n",
       "0  2024.06.18 23| 87  70  77.76271\n",
       "0  2024.06.19 0 | 82  64  74.7541 \n",
       "0  2024.06.19 1 | 70  61  66.25424\n",
       "0  2024.06.19 2 | 77  61  70.78333\n",
       "0  2024.06.19 3 | 78  66  70.2459 \n",
       "..\n"
      ]
     },
     "execution_count": 15,
     "metadata": {},
     "output_type": "execute_result"
    }
   ],
   "source": [
    "select mxc:max cpu,mnc:min cpu,avc:avg cpu by id,time.date,time.hh from computer"
   ]
  },
  {
   "cell_type": "code",
   "execution_count": 16,
   "id": "5a64af43-880b-43b4-8ffc-c3452ea4ffb5",
   "metadata": {},
   "outputs": [
    {
     "data": {
      "text/plain": [
       "id time                         | mxc mnc avc     \n",
       "--------------------------------| ----------------\n",
       "0  2024.06.18D08:00:00.000000000| 43  33  37.25   \n",
       "0  2024.06.18D09:00:00.000000000| 50  34  40.85   \n",
       "0  2024.06.18D10:00:00.000000000| 49  39  44.75   \n",
       "0  2024.06.18D11:00:00.000000000| 54  42  46.38333\n",
       "0  2024.06.18D12:00:00.000000000| 67  41  51.78333\n",
       "0  2024.06.18D13:00:00.000000000| 70  60  64.28814\n",
       "0  2024.06.18D14:00:00.000000000| 73  56  65.18033\n",
       "0  2024.06.18D15:00:00.000000000| 74  53  61.43333\n",
       "0  2024.06.18D16:00:00.000000000| 86  71  78.79661\n",
       "0  2024.06.18D17:00:00.000000000| 80  64  72.59016\n",
       "0  2024.06.18D18:00:00.000000000| 64  59  61.66667\n",
       "0  2024.06.18D19:00:00.000000000| 93  64  77.45   \n",
       "0  2024.06.18D20:00:00.000000000| 97  82  88.46667\n",
       "0  2024.06.18D21:00:00.000000000| 86  80  82.76271\n",
       "0  2024.06.18D22:00:00.000000000| 88  78  83.52459\n",
       "0  2024.06.18D23:00:00.000000000| 87  70  77.76271\n",
       "0  2024.06.19D00:00:00.000000000| 82  64  74.7541 \n",
       "0  2024.06.19D01:00:00.000000000| 70  61  66.25424\n",
       "0  2024.06.19D02:00:00.000000000| 77  61  70.78333\n",
       "0  2024.06.19D03:00:00.000000000| 78  66  70.2459 \n",
       "..\n"
      ]
     },
     "execution_count": 16,
     "metadata": {},
     "output_type": "execute_result"
    }
   ],
   "source": [
    "select mxc:max cpu,mnc:min cpu,avc:avg cpu by id,0D01:00:00.0 xbar time from computer"
   ]
  },
  {
   "cell_type": "code",
   "execution_count": 17,
   "id": "922d0d18-afae-4b9f-99f3-8a9edf838a0f",
   "metadata": {},
   "outputs": [],
   "source": [
    "timeofday:{`0earlymorn`1midmorn`2lunch`3afternoon`4evening 00:00 07:00 12:00 13:30 17:00 bin x}"
   ]
  },
  {
   "cell_type": "code",
   "execution_count": 18,
   "id": "1927dc6e-0507-4020-a97e-0f5b694b0780",
   "metadata": {},
   "outputs": [
    {
     "data": {
      "text/plain": [
       "id date       tod       | mxc mnc avc     \n",
       "------------------------| ----------------\n",
       "0  2024.06.18 1midmorn  | 54  33  43.57292\n",
       "0  2024.06.18 2lunch    | 67  41  55.41111\n",
       "0  2024.06.18 3afternoon| 86  53  68.05742\n",
       "0  2024.06.18 4evening  | 97  59  77.73571\n",
       "0  2024.06.19 0earlymorn| 93  61  76.10476\n",
       "0  2024.06.19 1midmorn  | 100 76  90.20667\n",
       "0  2024.06.19 2lunch    | 100 100 100     \n",
       "0  2024.06.19 3afternoon| 100 92  98.7381 \n",
       "0  2024.06.19 4evening  | 97  55  75.3881 \n",
       "0  2024.06.20 0earlymorn| 100 75  92.60476\n",
       "0  2024.06.20 1midmorn  | 100 100 100     \n",
       "0  2024.06.20 2lunch    | 100 100 100     \n",
       "0  2024.06.20 3afternoon| 100 100 100     \n",
       "0  2024.06.20 4evening  | 100 100 100     \n",
       "0  2024.06.21 0earlymorn| 100 100 100     \n",
       "0  2024.06.21 1midmorn  | 100 100 100     \n",
       "0  2024.06.21 2lunch    | 100 100 100     \n",
       "0  2024.06.21 3afternoon| 100 100 100     \n",
       "0  2024.06.21 4evening  | 100 92  99.53461\n",
       "0  2024.06.22 0earlymorn| 100 92  99.48456\n",
       "..\n"
      ]
     },
     "execution_count": 18,
     "metadata": {},
     "output_type": "execute_result"
    }
   ],
   "source": [
    "select mxc:max cpu,mnc:min cpu,avc:avg cpu by id,time.date,tod:timeofday[time.minute] from computer"
   ]
  },
  {
   "cell_type": "code",
   "execution_count": 19,
   "id": "f5b9deef-927e-4856-ad22-eb8535c627c5",
   "metadata": {},
   "outputs": [
    {
     "data": {
      "text/plain": [
       "tod       | avc     \n",
       "----------| --------\n",
       "0earlymorn| 41.8873 \n",
       "1midmorn  | 41.12075\n",
       "2lunch    | 40.83078\n",
       "3afternoon| 40.88695\n",
       "4evening  | 41.27756\n"
      ]
     },
     "execution_count": 19,
     "metadata": {},
     "output_type": "execute_result"
    }
   ],
   "source": [
    "select avc:sum[cpu]%sum samplecount by tod from select sum cpu,samplecount:count cpu by time.date,tod:timeofday[time.minute] from computer"
   ]
  },
  {
   "cell_type": "code",
   "execution_count": 21,
   "id": "ef28778d-a3cb-4f99-b8c2-b48c21997c3a",
   "metadata": {},
   "outputs": [
    {
     "data": {
      "text/plain": [
       "tod       | cpu     \n",
       "----------| --------\n",
       "0earlymorn| 41.8873 \n",
       "1midmorn  | 41.12075\n",
       "2lunch    | 40.83078\n",
       "3afternoon| 40.88695\n",
       "4evening  | 41.27756\n"
      ]
     },
     "execution_count": 21,
     "metadata": {},
     "output_type": "execute_result"
    }
   ],
   "source": [
    "select avg cpu by tod:timeofday[time.minute] from computer"
   ]
  },
  {
   "cell_type": "code",
   "execution_count": 23,
   "id": "170d7ee1-8034-46a5-8754-eed01b8a3695",
   "metadata": {},
   "outputs": [
    {
     "data": {
      "text/plain": [
       "time                          id  severity dept        os   \n",
       "------------------------------------------------------------\n",
       "2024.06.18D08:49:42.853273967 825 1        trading     vista\n",
       "2024.06.18D08:51:17.321178385 977 2        hoopjumping win7 \n",
       "2024.06.18D08:52:43.509707072 528 3        finance     win8 \n",
       "2024.06.18D08:53:44.920257100 697 3        packing     win7 \n",
       "2024.06.18D08:54:12.865388164 104 3        hoopjumping vista\n",
       "2024.06.18D08:54:52.962434807 529 2        logistics   win7 \n",
       "2024.06.18D08:55:57.400427678 922 2        packing     vista\n",
       "2024.06.18D08:56:08.356312731 175 3        telesales   vista\n",
       "2024.06.18D08:57:15.242491880 617 3        finance     vista\n",
       "2024.06.18D08:59:40.068803498 811 1        hoopjumping win7 \n",
       "2024.06.18D09:00:05.012743839 494 1        trading     win8 \n",
       "2024.06.18D09:02:14.148132720 838 3        packing     win7 \n",
       "2024.06.18D09:02:26.379106411 984 2        packing     win7 \n",
       "2024.06.18D09:03:38.198370853 585 2        finance     osx  \n",
       "2024.06.18D09:03:55.390391865 925 3        management  vista\n",
       "2024.06.18D09:07:22.155112245 952 3        logistics   win7 \n",
       "2024.06.18D09:07:40.981604376 804 1        management  win7 \n",
       "2024.06.18D09:11:04.877702215 134 2        logistics   win8 \n",
       "2024.06.18D09:12:40.002010235 66  1        packing     win7 \n",
       "2024.06.18D09:15:14.790649631 226 1        packing     osx  \n",
       "..\n"
      ]
     },
     "execution_count": 23,
     "metadata": {},
     "output_type": "execute_result"
    }
   ],
   "source": [
    "calls lj computerlookup"
   ]
  },
  {
   "cell_type": "code",
   "execution_count": 25,
   "id": "d55d2b99-3fb3-4a2d-8e86-6dafc2a3d506",
   "metadata": {},
   "outputs": [
    {
     "data": {
      "text/plain": [
       "severity dept       | callcount\n",
       "--------------------| ---------\n",
       "1        finance    | 142      \n",
       "1        hoopjumping| 122      \n",
       "1        logistics  | 132      \n",
       "1        management | 160      \n",
       "1        packing    | 184      \n",
       "1        telesales  | 148      \n",
       "1        trading    | 144      \n",
       "2        finance    | 165      \n",
       "2        hoopjumping| 111      \n",
       "2        logistics  | 176      \n",
       "2        management | 129      \n",
       "2        packing    | 170      \n",
       "2        telesales  | 122      \n",
       "2        trading    | 136      \n",
       "3        finance    | 130      \n",
       "3        hoopjumping| 132      \n",
       "3        logistics  | 147      \n",
       "3        management | 151      \n",
       "3        packing    | 154      \n",
       "3        telesales  | 122      \n",
       "3        trading    | 123      \n"
      ]
     },
     "execution_count": 25,
     "metadata": {},
     "output_type": "execute_result"
    }
   ],
   "source": [
    "select callcount:count i by severity,dept from calls lj computerlookup"
   ]
  },
  {
   "cell_type": "code",
   "execution_count": 26,
   "id": "e3fef6e3-b5bb-4ca4-a6ac-21a9291303e0",
   "metadata": {},
   "outputs": [
    {
     "data": {
      "text/plain": [
       "`calls\n"
      ]
     },
     "execution_count": 26,
     "metadata": {},
     "output_type": "execute_result"
    }
   ],
   "source": [
    "update `computerlookup$id from `calls"
   ]
  },
  {
   "cell_type": "code",
   "execution_count": 27,
   "id": "4594d7f8-fdaf-441e-bbcd-3c9cec76560a",
   "metadata": {},
   "outputs": [
    {
     "data": {
      "text/plain": [
       "os  dept        severity| callcount\n",
       "------------------------| ---------\n",
       "osx finance     1       | 42       \n",
       "osx finance     2       | 42       \n",
       "osx finance     3       | 30       \n",
       "osx hoopjumping 1       | 38       \n",
       "osx hoopjumping 2       | 31       \n",
       "osx hoopjumping 3       | 40       \n",
       "osx logistics   1       | 36       \n",
       "osx logistics   2       | 45       \n",
       "osx logistics   3       | 39       \n",
       "osx management  1       | 43       \n",
       "osx management  2       | 34       \n",
       "osx management  3       | 49       \n",
       "osx packing     1       | 71       \n",
       "osx packing     2       | 54       \n",
       "osx packing     3       | 38       \n",
       "osx telesales   1       | 38       \n",
       "osx telesales   2       | 26       \n",
       "osx telesales   3       | 28       \n",
       "osx trading     1       | 32       \n",
       "osx trading     2       | 31       \n",
       "..\n"
      ]
     },
     "execution_count": 27,
     "metadata": {},
     "output_type": "execute_result"
    }
   ],
   "source": [
    "select callcount:count i by id.os,id.dept,severity from calls"
   ]
  },
  {
   "cell_type": "code",
   "execution_count": null,
   "id": "bf451802-243a-4b79-af65-9400b29ec412",
   "metadata": {},
   "outputs": [],
   "source": []
  },
  {
   "cell_type": "code",
   "execution_count": null,
   "id": "26909b93-305b-410d-b96b-7fab679c04a3",
   "metadata": {},
   "outputs": [],
   "source": []
  },
  {
   "cell_type": "code",
   "execution_count": null,
   "id": "06e9dc02-90d3-40b7-9e2c-2d85e6084785",
   "metadata": {},
   "outputs": [],
   "source": []
  }
 ],
 "metadata": {
  "kernelspec": {
   "display_name": "Q (kdb+)",
   "language": "q",
   "name": "qpk"
  },
  "language_info": {
   "file_extension": ".q",
   "mimetype": "text/x-q",
   "name": "q",
   "version": "4.1.0"
  }
 },
 "nbformat": 4,
 "nbformat_minor": 5
}
