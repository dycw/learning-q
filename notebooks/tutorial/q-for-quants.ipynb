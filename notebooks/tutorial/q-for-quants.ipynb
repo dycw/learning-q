{
 "cells": [
  {
   "cell_type": "code",
   "execution_count": 1,
   "id": "60050d69-9bee-4762-b7d9-0a1eecb7eec2",
   "metadata": {},
   "outputs": [
    {
     "data": {
      "text/plain": [
       "time                 item   amount city   \n",
       "------------------------------------------\n",
       "0D00:00:00.048360228 banana 62     beijing\n",
       "0D00:00:00.062180310 pear   94     beijing\n",
       "0D00:00:00.159745663 banana 27     london \n",
       "0D00:00:00.466201454 apple  50     chicago\n",
       "0D00:00:00.480262935 banana 40     london \n",
       "0D00:00:00.548035651 banana 32     chicago\n",
       "0D00:00:00.555921345 pear   88     london \n",
       "0D00:00:00.705146044 banana 22     paris  \n",
       "0D00:00:00.712388008 banana 98     london \n",
       "0D00:00:00.944794714 pear   53     chicago\n",
       "0D00:00:00.952962040 orange 28     beijing\n",
       "0D00:00:00.958473980 banana 48     paris  \n",
       "0D00:00:01.036425679 orange 7      chicago\n",
       "0D00:00:01.071770489 banana 40     london \n",
       "0D00:00:01.254006475 orange 69     london \n",
       "0D00:00:01.259618997 orange 43     chicago\n",
       "0D00:00:01.319606602 banana 4      beijing\n",
       "0D00:00:01.370139420 banana 65     chicago\n",
       "0D00:00:01.408984512 banana 83     london \n",
       "0D00:00:01.414858549 apple  68     beijing\n",
       "..\n"
      ]
     },
     "execution_count": 1,
     "metadata": {},
     "output_type": "execute_result"
    }
   ],
   "source": [
    "n:1000000\n",
    "item:`apple`banana`orange`pear\n",
    "city:`beijing`chicago`london`paris\n",
    "tab:([]time:asc n?0D0;n?item;amount:n?100;n?city)\n",
    "tab"
   ]
  },
  {
   "cell_type": "code",
   "execution_count": 2,
   "id": "7d0baed8-f221-4b75-b5f9-8de36fc10de3",
   "metadata": {},
   "outputs": [
    {
     "data": {
      "text/plain": [
       "time                 item   amount city   \n",
       "------------------------------------------\n",
       "0D00:00:00.048360228 banana 62     beijing\n",
       "0D00:00:00.159745663 banana 27     london \n",
       "0D00:00:00.480262935 banana 40     london \n",
       "0D00:00:00.548035651 banana 32     chicago\n",
       "0D00:00:00.705146044 banana 22     paris  \n",
       "0D00:00:00.712388008 banana 98     london \n",
       "0D00:00:00.958473980 banana 48     paris  \n",
       "0D00:00:01.071770489 banana 40     london \n",
       "0D00:00:01.319606602 banana 4      beijing\n",
       "0D00:00:01.370139420 banana 65     chicago\n",
       "0D00:00:01.408984512 banana 83     london \n",
       "0D00:00:01.890353858 banana 76     paris  \n",
       "0D00:00:02.232053875 banana 63     beijing\n",
       "0D00:00:02.458868175 banana 65     chicago\n",
       "0D00:00:02.878721058 banana 80     paris  \n",
       "0D00:00:03.401349484 banana 18     london \n",
       "0D00:00:03.690867125 banana 39     beijing\n",
       "0D00:00:03.877729922 banana 62     chicago\n",
       "0D00:00:04.152683168 banana 90     chicago\n",
       "0D00:00:04.457911849 banana 65     paris  \n",
       "..\n"
      ]
     },
     "execution_count": 2,
     "metadata": {},
     "output_type": "execute_result"
    }
   ],
   "source": [
    "select from tab where item=`banana"
   ]
  },
  {
   "cell_type": "code",
   "execution_count": 3,
   "id": "3fdb7cd0-7ae3-47ed-8e81-8e9b3818ba46",
   "metadata": {},
   "outputs": [
    {
     "data": {
      "text/plain": [
       "city   | amount  \n",
       "-------| --------\n",
       "beijing| 12418161\n",
       "chicago| 12342736\n",
       "london | 12367712\n",
       "paris  | 12383797\n"
      ]
     },
     "execution_count": 3,
     "metadata": {},
     "output_type": "execute_result"
    }
   ],
   "source": [
    "select sum amount by city from tab"
   ]
  },
  {
   "cell_type": "code",
   "execution_count": 4,
   "id": "72725e13-c8bb-4857-bb5f-b9ea9d41a942",
   "metadata": {},
   "outputs": [
    {
     "data": {
      "text/plain": [
       "hh item  | amount\n",
       "---------| ------\n",
       "0  apple | 526212\n",
       "0  banana| 507660\n",
       "0  orange| 502360\n",
       "0  pear  | 511619\n",
       "1  apple | 513634\n",
       "1  banana| 508256\n",
       "1  orange| 523457\n",
       "1  pear  | 516540\n",
       "2  apple | 505669\n",
       "2  banana| 512270\n",
       "2  orange| 513962\n",
       "2  pear  | 523245\n",
       "3  apple | 523114\n",
       "3  banana| 511499\n",
       "3  orange| 510569\n",
       "3  pear  | 517673\n",
       "4  apple | 521745\n",
       "4  banana| 516055\n",
       "4  orange| 518225\n",
       "4  pear  | 513618\n",
       "..\n"
      ]
     },
     "execution_count": 4,
     "metadata": {},
     "output_type": "execute_result"
    }
   ],
   "source": [
    "select sum amount by time.hh,item from tab"
   ]
  },
  {
   "cell_type": "code",
   "execution_count": 5,
   "id": "2a52d1c4-b73b-473e-939d-70feddb78a59",
   "metadata": {},
   "outputs": [
    {
     "data": {
      "text/plain": [
       "0\n"
      ]
     },
     "execution_count": 5,
     "metadata": {},
     "output_type": "execute_result"
    }
   ],
   "source": [
    "\\t select from tab"
   ]
  },
  {
   "cell_type": "code",
   "execution_count": 6,
   "id": "be64011b-c832-4bc6-bc9a-e1872564095c",
   "metadata": {},
   "outputs": [],
   "source": [
    "\\l ../../scripts/calls.q"
   ]
  },
  {
   "cell_type": "code",
   "execution_count": 7,
   "id": "ff6572a8-f9f1-434d-8453-a2ca181009ea",
   "metadata": {},
   "outputs": [
    {
     "data": {
      "text/plain": [
       "time                          id  cpu\n",
       "-------------------------------------\n",
       "2024.06.18D11:14:16.015082797 208 36 \n",
       "2024.06.18D11:14:16.037045506 157 28 \n",
       "2024.06.18D11:14:16.037916717 695 40 \n",
       "2024.06.18D11:14:16.041150115 428 31 \n",
       "2024.06.18D11:14:16.051011098 302 34 \n",
       "2024.06.18D11:14:16.083238985 662 35 \n",
       "2024.06.18D11:14:16.097293970 972 40 \n",
       "2024.06.18D11:14:16.101789711 4   42 \n",
       "2024.06.18D11:14:16.110250571 349 30 \n",
       "2024.06.18D11:14:16.113293142 986 25 \n",
       "2024.06.18D11:14:16.124235083 933 36 \n",
       "2024.06.18D11:14:16.136815784 883 33 \n",
       "2024.06.18D11:14:16.178878652 931 43 \n",
       "2024.06.18D11:14:16.186265912 999 37 \n",
       "2024.06.18D11:14:16.213368409 480 37 \n",
       "2024.06.18D11:14:16.225525261 929 38 \n",
       "2024.06.18D11:14:16.232190359 490 41 \n",
       "2024.06.18D11:14:16.305562583 908 35 \n",
       "2024.06.18D11:14:16.388789032 507 38 \n",
       "2024.06.18D11:14:16.418755430 880 36 \n",
       "..\n"
      ]
     },
     "execution_count": 7,
     "metadata": {},
     "output_type": "execute_result"
    }
   ],
   "source": [
    "computer"
   ]
  },
  {
   "cell_type": "code",
   "execution_count": 8,
   "id": "e2cee70c-3763-43f0-ae91-335a00351d40",
   "metadata": {},
   "outputs": [
    {
     "data": {
      "text/plain": [
       "time                          id  severity\n",
       "------------------------------------------\n",
       "2024.06.18D11:18:28.655329453 212 3       \n",
       "2024.06.18D11:20:46.125917541 673 3       \n",
       "2024.06.18D11:23:38.899371880 463 2       \n",
       "2024.06.18D11:24:30.002896743 332 3       \n",
       "2024.06.18D11:25:33.247876572 366 3       \n",
       "2024.06.18D11:25:51.101732659 259 2       \n",
       "2024.06.18D11:27:21.396756875 355 2       \n",
       "2024.06.18D11:31:57.821328747 73  2       \n",
       "2024.06.18D11:38:07.666033613 370 1       \n",
       "2024.06.18D11:38:31.733696269 775 1       \n",
       "2024.06.18D11:46:22.800644296 236 1       \n",
       "2024.06.18D11:50:18.669310617 488 1       \n",
       "2024.06.18D11:50:25.541130113 820 1       \n",
       "2024.06.18D11:54:01.367157208 205 3       \n",
       "2024.06.18D11:54:06.072221207 963 1       \n",
       "2024.06.18D11:56:45.805814671 87  1       \n",
       "2024.06.18D11:56:52.510666656 172 2       \n",
       "2024.06.18D11:59:56.306491303 695 2       \n",
       "2024.06.18D12:07:45.756369042 871 2       \n",
       "2024.06.18D12:09:27.668610471 852 3       \n",
       "..\n"
      ]
     },
     "execution_count": 8,
     "metadata": {},
     "output_type": "execute_result"
    }
   ],
   "source": [
    "calls"
   ]
  },
  {
   "cell_type": "code",
   "execution_count": 9,
   "id": "c58a5cac-9941-4dfb-89cc-0f23da5d11f9",
   "metadata": {},
   "outputs": [
    {
     "data": {
      "text/plain": [
       "id| dept        os   \n",
       "--| -----------------\n",
       "0 | management  vista\n",
       "1 | hoopjumping vista\n",
       "2 | logistics   vista\n",
       "3 | hoopjumping vista\n",
       "4 | trading     win7 \n",
       "5 | management  win7 \n",
       "6 | hoopjumping win8 \n",
       "7 | management  win8 \n",
       "8 | telesales   win8 \n",
       "9 | trading     win8 \n",
       "10| trading     vista\n",
       "11| finance     osx  \n",
       "12| trading     win8 \n",
       "13| trading     win8 \n",
       "14| telesales   win7 \n",
       "15| hoopjumping vista\n",
       "16| trading     win8 \n",
       "17| packing     vista\n",
       "18| packing     vista\n",
       "19| management  osx  \n",
       "..\n"
      ]
     },
     "execution_count": 9,
     "metadata": {},
     "output_type": "execute_result"
    }
   ],
   "source": [
    "computerlookup"
   ]
  },
  {
   "cell_type": "code",
   "execution_count": 10,
   "id": "263f8b29-c1a5-4efb-a0b8-eda0ceb9ab98",
   "metadata": {},
   "outputs": [
    {
     "data": {
      "text/plain": [
       "calls         | 3000\n",
       "computer      | 7200000\n",
       "computerlookup| 1000\n",
       "tab           | 1000000\n"
      ]
     },
     "execution_count": 10,
     "metadata": {},
     "output_type": "execute_result"
    }
   ],
   "source": [
    "tables[]!count each value each tables[]"
   ]
  },
  {
   "cell_type": "code",
   "execution_count": 11,
   "id": "8f39043a-7788-423c-888c-9a536965a67e",
   "metadata": {},
   "outputs": [
    {
     "data": {
      "text/plain": [
       "id| mxc mnc avc     \n",
       "--| ----------------\n",
       "0 | 64  3   6.017778\n",
       "1 | 93  3   20.72569\n",
       "2 | 86  3   42.61264\n",
       "3 | 45  3   4.259444\n",
       "4 | 100 14  69.37014\n",
       "5 | 100 3   71.83708\n",
       "6 | 100 3   64.57722\n",
       "7 | 100 20  76.74403\n",
       "8 | 100 15  67.76   \n",
       "9 | 43  3   10.57083\n",
       "10| 100 3   73.32583\n",
       "11| 92  3   19.19653\n",
       "12| 82  3   32.65181\n",
       "13| 59  3   9.827639\n",
       "14| 55  3   11.14569\n",
       "15| 100 3   57.99611\n",
       "16| 100 32  97.7075 \n",
       "17| 62  3   6.128194\n",
       "18| 43  3   8.400139\n",
       "19| 100 3   25.62472\n",
       "..\n"
      ]
     },
     "execution_count": 11,
     "metadata": {},
     "output_type": "execute_result"
    }
   ],
   "source": [
    "select mxc:max cpu,mnc:min cpu,avc:avg cpu by id from computer"
   ]
  },
  {
   "cell_type": "code",
   "execution_count": 12,
   "id": "650c2255-fc4c-42f7-b1ec-efd659d28ea6",
   "metadata": {},
   "outputs": [
    {
     "data": {
      "text/plain": [
       "id date      | mxc mnc avc     \n",
       "-------------| ----------------\n",
       "0  2024.06.18| 64  3   31.36554\n",
       "0  2024.06.19| 3   3   3       \n",
       "0  2024.06.20| 3   3   3       \n",
       "0  2024.06.21| 3   3   3       \n",
       "0  2024.06.22| 3   3   3       \n",
       "0  2024.06.23| 3   3   3       \n",
       "1  2024.06.18| 93  28  57.36684\n",
       "1  2024.06.19| 84  3   34.48264\n",
       "1  2024.06.20| 52  3   26.42847\n",
       "1  2024.06.21| 36  3   7.066667\n",
       "1  2024.06.22| 21  3   3.730556\n",
       "1  2024.06.23| 3   3   3       \n",
       "2  2024.06.18| 65  25  45.02742\n",
       "2  2024.06.19| 73  12  35.60139\n",
       "2  2024.06.20| 74  3   28.78819\n",
       "2  2024.06.21| 85  29  55.68472\n",
       "2  2024.06.22| 72  20  36.78542\n",
       "2  2024.06.23| 86  50  68.90504\n",
       "3  2024.06.18| 45  3   14.21671\n",
       "3  2024.06.19| 12  3   3.330556\n",
       "..\n"
      ]
     },
     "execution_count": 12,
     "metadata": {},
     "output_type": "execute_result"
    }
   ],
   "source": [
    "select mxc:max cpu,mnc:min cpu,avc:avg cpu by id,time.date from computer"
   ]
  },
  {
   "cell_type": "code",
   "execution_count": 13,
   "id": "5630a3aa-3e58-4e24-93e0-efbd073ed148",
   "metadata": {},
   "outputs": [
    {
     "data": {
      "text/plain": [
       "id hh| mxc mnc avc     \n",
       "-----| ----------------\n",
       "0  0 | 3   3   3       \n",
       "0  1 | 3   3   3       \n",
       "0  2 | 3   3   3       \n",
       "0  3 | 3   3   3       \n",
       "0  4 | 3   3   3       \n",
       "0  5 | 3   3   3       \n",
       "0  6 | 3   3   3       \n",
       "0  7 | 3   3   3       \n",
       "0  8 | 3   3   3       \n",
       "0  9 | 3   3   3       \n",
       "0  10| 3   3   3       \n",
       "0  11| 40  3   8.02    \n",
       "0  12| 50  3   11.6    \n",
       "0  13| 64  3   13.97333\n",
       "0  14| 58  3   13.19   \n",
       "0  15| 58  3   12.47333\n",
       "0  16| 56  3   11.07667\n",
       "0  17| 41  3   10.08   \n",
       "0  18| 38  3   8.396667\n",
       "0  19| 24  3   6.473333\n",
       "..\n"
      ]
     },
     "execution_count": 13,
     "metadata": {},
     "output_type": "execute_result"
    }
   ],
   "source": [
    "select mxc:max cpu,mnc:min cpu,avc:avg cpu by id,time.hh from computer"
   ]
  },
  {
   "cell_type": "code",
   "execution_count": 14,
   "id": "1ca399ed-5f10-485c-99df-c7528bbd2ca6",
   "metadata": {},
   "outputs": [
    {
     "data": {
      "text/plain": [
       "id date       hh| mxc mnc avc     \n",
       "----------------| ----------------\n",
       "0  2024.06.18 11| 40  31  35.73913\n",
       "0  2024.06.18 12| 50  37  46      \n",
       "0  2024.06.18 13| 64  48  57.86667\n",
       "0  2024.06.18 14| 58  49  53.95   \n",
       "0  2024.06.18 15| 58  44  50.36667\n",
       "0  2024.06.18 16| 56  33  43.38333\n",
       "0  2024.06.18 17| 41  34  38.4    \n",
       "0  2024.06.18 18| 38  22  29.98333\n",
       "0  2024.06.18 19| 24  14  20.36667\n",
       "0  2024.06.18 20| 21  11  16.26667\n",
       "0  2024.06.18 21| 15  3   9.433333\n",
       "0  2024.06.18 22| 11  3   4       \n",
       "0  2024.06.18 23| 4   3   3.016667\n",
       "0  2024.06.19 0 | 3   3   3       \n",
       "0  2024.06.19 1 | 3   3   3       \n",
       "0  2024.06.19 2 | 3   3   3       \n",
       "0  2024.06.19 3 | 3   3   3       \n",
       "0  2024.06.19 4 | 3   3   3       \n",
       "0  2024.06.19 5 | 3   3   3       \n",
       "0  2024.06.19 6 | 3   3   3       \n",
       "..\n"
      ]
     },
     "execution_count": 14,
     "metadata": {},
     "output_type": "execute_result"
    }
   ],
   "source": [
    "select mxc:max cpu,mnc:min cpu,avc:avg cpu by id,time.date,time.hh from computer"
   ]
  },
  {
   "cell_type": "code",
   "execution_count": 15,
   "id": "5a64af43-880b-43b4-8ffc-c3452ea4ffb5",
   "metadata": {},
   "outputs": [
    {
     "data": {
      "text/plain": [
       "id time                         | mxc mnc avc     \n",
       "--------------------------------| ----------------\n",
       "0  2024.06.18D11:00:00.000000000| 40  31  35.73913\n",
       "0  2024.06.18D12:00:00.000000000| 50  37  46      \n",
       "0  2024.06.18D13:00:00.000000000| 64  48  57.86667\n",
       "0  2024.06.18D14:00:00.000000000| 58  49  53.95   \n",
       "0  2024.06.18D15:00:00.000000000| 58  44  50.36667\n",
       "0  2024.06.18D16:00:00.000000000| 56  33  43.38333\n",
       "0  2024.06.18D17:00:00.000000000| 41  34  38.4    \n",
       "0  2024.06.18D18:00:00.000000000| 38  22  29.98333\n",
       "0  2024.06.18D19:00:00.000000000| 24  14  20.36667\n",
       "0  2024.06.18D20:00:00.000000000| 21  11  16.26667\n",
       "0  2024.06.18D21:00:00.000000000| 15  3   9.433333\n",
       "0  2024.06.18D22:00:00.000000000| 11  3   4       \n",
       "0  2024.06.18D23:00:00.000000000| 4   3   3.016667\n",
       "0  2024.06.19D00:00:00.000000000| 3   3   3       \n",
       "0  2024.06.19D01:00:00.000000000| 3   3   3       \n",
       "0  2024.06.19D02:00:00.000000000| 3   3   3       \n",
       "0  2024.06.19D03:00:00.000000000| 3   3   3       \n",
       "0  2024.06.19D04:00:00.000000000| 3   3   3       \n",
       "0  2024.06.19D05:00:00.000000000| 3   3   3       \n",
       "0  2024.06.19D06:00:00.000000000| 3   3   3       \n",
       "..\n"
      ]
     },
     "execution_count": 15,
     "metadata": {},
     "output_type": "execute_result"
    }
   ],
   "source": [
    "select mxc:max cpu,mnc:min cpu,avc:avg cpu by id,0D01:00:00.0 xbar time from computer"
   ]
  },
  {
   "cell_type": "code",
   "execution_count": 16,
   "id": "922d0d18-afae-4b9f-99f3-8a9edf838a0f",
   "metadata": {},
   "outputs": [],
   "source": [
    "timeofday:{`0earlymorn`1midmorn`2lunch`3afternoon`4evening 00:00 07:00 12:00 13:30 17:00 bin x}"
   ]
  },
  {
   "cell_type": "code",
   "execution_count": 17,
   "id": "1927dc6e-0507-4020-a97e-0f5b694b0780",
   "metadata": {},
   "outputs": [
    {
     "data": {
      "text/plain": [
       "id date       tod       | mxc mnc avc     \n",
       "------------------------| ----------------\n",
       "0  2024.06.18 1midmorn  | 40  31  35.73913\n",
       "0  2024.06.18 2lunch    | 61  37  48.74444\n",
       "0  2024.06.18 3afternoon| 64  33  50.98571\n",
       "0  2024.06.18 4evening  | 41  3   17.35238\n",
       "0  2024.06.19 0earlymorn| 3   3   3       \n",
       "0  2024.06.19 1midmorn  | 3   3   3       \n",
       "0  2024.06.19 2lunch    | 3   3   3       \n",
       "0  2024.06.19 3afternoon| 3   3   3       \n",
       "0  2024.06.19 4evening  | 3   3   3       \n",
       "0  2024.06.20 0earlymorn| 3   3   3       \n",
       "0  2024.06.20 1midmorn  | 3   3   3       \n",
       "0  2024.06.20 2lunch    | 3   3   3       \n",
       "0  2024.06.20 3afternoon| 3   3   3       \n",
       "0  2024.06.20 4evening  | 3   3   3       \n",
       "0  2024.06.21 0earlymorn| 3   3   3       \n",
       "0  2024.06.21 1midmorn  | 3   3   3       \n",
       "0  2024.06.21 2lunch    | 3   3   3       \n",
       "0  2024.06.21 3afternoon| 3   3   3       \n",
       "0  2024.06.21 4evening  | 3   3   3       \n",
       "0  2024.06.22 0earlymorn| 3   3   3       \n",
       "..\n"
      ]
     },
     "execution_count": 17,
     "metadata": {},
     "output_type": "execute_result"
    }
   ],
   "source": [
    "select mxc:max cpu,mnc:min cpu,avc:avg cpu by id,time.date,tod:timeofday[time.minute] from computer"
   ]
  },
  {
   "cell_type": "code",
   "execution_count": 18,
   "id": "f5b9deef-927e-4856-ad22-eb8535c627c5",
   "metadata": {},
   "outputs": [
    {
     "data": {
      "text/plain": [
       "tod       | avc     \n",
       "----------| --------\n",
       "0earlymorn| 41.9906 \n",
       "1midmorn  | 41.88903\n",
       "2lunch    | 40.51705\n",
       "3afternoon| 40.67457\n",
       "4evening  | 41.46491\n"
      ]
     },
     "execution_count": 18,
     "metadata": {},
     "output_type": "execute_result"
    }
   ],
   "source": [
    "select avc:sum[cpu]%sum samplecount by tod from select sum cpu,samplecount:count cpu by time.date,tod:timeofday[time.minute] from computer"
   ]
  },
  {
   "cell_type": "code",
   "execution_count": 19,
   "id": "ef28778d-a3cb-4f99-b8c2-b48c21997c3a",
   "metadata": {},
   "outputs": [
    {
     "data": {
      "text/plain": [
       "tod       | cpu     \n",
       "----------| --------\n",
       "0earlymorn| 41.9906 \n",
       "1midmorn  | 41.88903\n",
       "2lunch    | 40.51705\n",
       "3afternoon| 40.67457\n",
       "4evening  | 41.46491\n"
      ]
     },
     "execution_count": 19,
     "metadata": {},
     "output_type": "execute_result"
    }
   ],
   "source": [
    "select avg cpu by tod:timeofday[time.minute] from computer"
   ]
  },
  {
   "cell_type": "code",
   "execution_count": 20,
   "id": "170d7ee1-8034-46a5-8754-eed01b8a3695",
   "metadata": {},
   "outputs": [
    {
     "data": {
      "text/plain": [
       "time                          id  severity dept        os   \n",
       "------------------------------------------------------------\n",
       "2024.06.18D11:18:28.655329453 212 3        telesales   win7 \n",
       "2024.06.18D11:20:46.125917541 673 3        finance     win8 \n",
       "2024.06.18D11:23:38.899371880 463 2        telesales   win8 \n",
       "2024.06.18D11:24:30.002896743 332 3        packing     win8 \n",
       "2024.06.18D11:25:33.247876572 366 3        finance     vista\n",
       "2024.06.18D11:25:51.101732659 259 2        management  vista\n",
       "2024.06.18D11:27:21.396756875 355 2        packing     vista\n",
       "2024.06.18D11:31:57.821328747 73  2        packing     win8 \n",
       "2024.06.18D11:38:07.666033613 370 1        hoopjumping vista\n",
       "2024.06.18D11:38:31.733696269 775 1        telesales   win8 \n",
       "2024.06.18D11:46:22.800644296 236 1        packing     win7 \n",
       "2024.06.18D11:50:18.669310617 488 1        logistics   osx  \n",
       "2024.06.18D11:50:25.541130113 820 1        trading     win8 \n",
       "2024.06.18D11:54:01.367157208 205 3        management  win8 \n",
       "2024.06.18D11:54:06.072221207 963 1        management  vista\n",
       "2024.06.18D11:56:45.805814671 87  1        logistics   win7 \n",
       "2024.06.18D11:56:52.510666656 172 2        packing     osx  \n",
       "2024.06.18D11:59:56.306491303 695 2        packing     vista\n",
       "2024.06.18D12:07:45.756369042 871 2        finance     vista\n",
       "2024.06.18D12:09:27.668610471 852 3        management  win7 \n",
       "..\n"
      ]
     },
     "execution_count": 20,
     "metadata": {},
     "output_type": "execute_result"
    }
   ],
   "source": [
    "calls lj computerlookup"
   ]
  },
  {
   "cell_type": "code",
   "execution_count": 21,
   "id": "d55d2b99-3fb3-4a2d-8e86-6dafc2a3d506",
   "metadata": {},
   "outputs": [
    {
     "data": {
      "text/plain": [
       "severity dept       | callcount\n",
       "--------------------| ---------\n",
       "1        finance    | 119      \n",
       "1        hoopjumping| 175      \n",
       "1        logistics  | 124      \n",
       "1        management | 168      \n",
       "1        packing    | 135      \n",
       "1        telesales  | 134      \n",
       "1        trading    | 167      \n",
       "2        finance    | 136      \n",
       "2        hoopjumping| 135      \n",
       "2        logistics  | 111      \n",
       "2        management | 131      \n",
       "2        packing    | 154      \n",
       "2        telesales  | 105      \n",
       "2        trading    | 161      \n",
       "3        finance    | 178      \n",
       "3        hoopjumping| 147      \n",
       "3        logistics  | 126      \n",
       "3        management | 157      \n",
       "3        packing    | 163      \n",
       "3        telesales  | 145      \n",
       "3        trading    | 129      \n"
      ]
     },
     "execution_count": 21,
     "metadata": {},
     "output_type": "execute_result"
    }
   ],
   "source": [
    "select callcount:count i by severity,dept from calls lj computerlookup"
   ]
  },
  {
   "cell_type": "code",
   "execution_count": 22,
   "id": "e3fef6e3-b5bb-4ca4-a6ac-21a9291303e0",
   "metadata": {},
   "outputs": [
    {
     "data": {
      "text/plain": [
       "`calls\n"
      ]
     },
     "execution_count": 22,
     "metadata": {},
     "output_type": "execute_result"
    }
   ],
   "source": [
    "update `computerlookup$id from `calls"
   ]
  },
  {
   "cell_type": "code",
   "execution_count": 23,
   "id": "4594d7f8-fdaf-441e-bbcd-3c9cec76560a",
   "metadata": {},
   "outputs": [
    {
     "data": {
      "text/plain": [
       "os  dept        severity| callcount\n",
       "------------------------| ---------\n",
       "osx finance     1       | 33       \n",
       "osx finance     2       | 40       \n",
       "osx finance     3       | 55       \n",
       "osx hoopjumping 1       | 36       \n",
       "osx hoopjumping 2       | 34       \n",
       "osx hoopjumping 3       | 36       \n",
       "osx logistics   1       | 25       \n",
       "osx logistics   2       | 25       \n",
       "osx logistics   3       | 29       \n",
       "osx management  1       | 53       \n",
       "osx management  2       | 39       \n",
       "osx management  3       | 39       \n",
       "osx packing     1       | 39       \n",
       "osx packing     2       | 28       \n",
       "osx packing     3       | 38       \n",
       "osx telesales   1       | 29       \n",
       "osx telesales   2       | 16       \n",
       "osx telesales   3       | 30       \n",
       "osx trading     1       | 39       \n",
       "osx trading     2       | 49       \n",
       "..\n"
      ]
     },
     "execution_count": 23,
     "metadata": {},
     "output_type": "execute_result"
    }
   ],
   "source": [
    "select callcount:count i by id.os,id.dept,severity from calls"
   ]
  },
  {
   "cell_type": "code",
   "execution_count": 24,
   "id": "bf451802-243a-4b79-af65-9400b29ec412",
   "metadata": {},
   "outputs": [
    {
     "data": {
      "text/plain": [
       "time                          id  severity cpu\n",
       "----------------------------------------------\n",
       "2024.06.18D11:18:28.655329453 212 3        27 \n",
       "2024.06.18D11:20:46.125917541 673 3        31 \n",
       "2024.06.18D11:23:38.899371880 463 2        38 \n",
       "2024.06.18D11:24:30.002896743 332 3        39 \n",
       "2024.06.18D11:25:33.247876572 366 3        24 \n",
       "2024.06.18D11:25:51.101732659 259 2        28 \n",
       "2024.06.18D11:27:21.396756875 355 2        38 \n",
       "2024.06.18D11:31:57.821328747 73  2        40 \n",
       "2024.06.18D11:38:07.666033613 370 1        32 \n",
       "2024.06.18D11:38:31.733696269 775 1        38 \n",
       "2024.06.18D11:46:22.800644296 236 1        31 \n",
       "2024.06.18D11:50:18.669310617 488 1        17 \n",
       "2024.06.18D11:50:25.541130113 820 1        62 \n",
       "2024.06.18D11:54:01.367157208 205 3        49 \n",
       "2024.06.18D11:54:06.072221207 963 1        19 \n",
       "2024.06.18D11:56:45.805814671 87  1        37 \n",
       "2024.06.18D11:56:52.510666656 172 2        22 \n",
       "2024.06.18D11:59:56.306491303 695 2        43 \n",
       "2024.06.18D12:07:45.756369042 871 2        53 \n",
       "2024.06.18D12:09:27.668610471 852 3        33 \n",
       "..\n"
      ]
     },
     "execution_count": 24,
     "metadata": {},
     "output_type": "execute_result"
    }
   ],
   "source": [
    "aj[`id`time;calls;computer]"
   ]
  },
  {
   "cell_type": "code",
   "execution_count": 25,
   "id": "26909b93-305b-410d-b96b-7fab679c04a3",
   "metadata": {},
   "outputs": [],
   "source": [
    "p:update `p#id from `id xasc computer"
   ]
  },
  {
   "cell_type": "code",
   "execution_count": 26,
   "id": "06e9dc02-90d3-40b7-9e2c-2d85e6084785",
   "metadata": {},
   "outputs": [
    {
     "data": {
      "text/plain": [
       "time                          id  severity cpu cpu     \n",
       "-------------------------------------------------------\n",
       "2024.06.18D11:18:28.655329453 212 3        31  28.16667\n",
       "2024.06.18D11:20:46.125917541 673 3        33  31.55556\n",
       "2024.06.18D11:23:38.899371880 463 2        39  37.58333\n",
       "2024.06.18D11:24:30.002896743 332 3        39  36.5    \n",
       "2024.06.18D11:25:33.247876572 366 3        36  29      \n",
       "2024.06.18D11:25:51.101732659 259 2        30  27.84615\n",
       "2024.06.18D11:27:21.396756875 355 2        40  37.08333\n",
       "2024.06.18D11:31:57.821328747 73  2        41  38.15385\n",
       "2024.06.18D11:38:07.666033613 370 1        35  33.61538\n",
       "2024.06.18D11:38:31.733696269 775 1        41  39.38462\n",
       "2024.06.18D11:46:22.800644296 236 1        36  34.46154\n",
       "2024.06.18D11:50:18.669310617 488 1        24  20.33333\n",
       "2024.06.18D11:50:25.541130113 820 1        63  59.57143\n",
       "2024.06.18D11:54:01.367157208 205 3        51  48.46154\n",
       "2024.06.18D11:54:06.072221207 963 1        23  20.84615\n",
       "2024.06.18D11:56:45.805814671 87  1        37  35.46154\n",
       "2024.06.18D11:56:52.510666656 172 2        24  22.38462\n",
       "2024.06.18D11:59:56.306491303 695 2        43  41.30769\n",
       "2024.06.18D12:07:45.756369042 871 2        54  51.07692\n",
       "2024.06.18D12:09:27.668610471 852 3        37  33.35714\n",
       "..\n"
      ]
     },
     "execution_count": 26,
     "metadata": {},
     "output_type": "execute_result"
    }
   ],
   "source": [
    "wj[-0D00:10 0D00:02+\\:calls.time; `id`time; calls; (p;(max;`cpu);(avg;`cpu))]"
   ]
  }
 ],
 "metadata": {
  "kernelspec": {
   "display_name": "Q (kdb+)",
   "language": "q",
   "name": "qpk"
  },
  "language_info": {
   "file_extension": ".q",
   "mimetype": "text/x-q",
   "name": "q",
   "version": "4.1.0"
  }
 },
 "nbformat": 4,
 "nbformat_minor": 5
}
