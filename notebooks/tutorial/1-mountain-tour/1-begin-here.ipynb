{
 "cells": [
  {
   "cell_type": "code",
   "execution_count": 1,
   "id": "29415300-25d5-448c-8ffb-e85777d9e847",
   "metadata": {},
   "outputs": [],
   "source": [
    "// Learn > Mountain tour > Begin here"
   ]
  },
  {
   "cell_type": "code",
   "execution_count": 2,
   "id": "a20099c5-32a4-485a-b3cc-270bf1cb0e80",
   "metadata": {},
   "outputs": [
    {
     "data": {
      "text/plain": [
       "4 5 6\n"
      ]
     },
     "execution_count": 2,
     "metadata": {},
     "output_type": "execute_result"
    }
   ],
   "source": [
    "2+2 3 4"
   ]
  },
  {
   "cell_type": "code",
   "execution_count": 3,
   "id": "c3c921a3-d0f2-490e-aa85-c8511f338329",
   "metadata": {},
   "outputs": [
    {
     "data": {
      "text/plain": [
       "3.141593\n"
      ]
     },
     "execution_count": 3,
     "metadata": {},
     "output_type": "execute_result"
    }
   ],
   "source": [
    "acos -1"
   ]
  },
  {
   "cell_type": "code",
   "execution_count": 4,
   "id": "b228b4bd-052f-471a-a7d0-28d1d5135721",
   "metadata": {},
   "outputs": [],
   "source": [
    "\\l ../data/sp.q"
   ]
  },
  {
   "cell_type": "code",
   "execution_count": 5,
   "id": "722ddaa9-da3d-4f3b-8e22-3c1fabb00251",
   "metadata": {},
   "outputs": [
    {
     "data": {
      "text/plain": [
       "`p`s`sp\n"
      ]
     },
     "execution_count": 5,
     "metadata": {},
     "output_type": "execute_result"
    }
   ],
   "source": [
    "\\a"
   ]
  },
  {
   "cell_type": "code",
   "execution_count": 6,
   "id": "d88d73e6-6a96-4b8d-ada6-2575571650a0",
   "metadata": {},
   "outputs": [
    {
     "data": {
      "text/plain": [
       "s  p  qty\n",
       "---------\n",
       "s1 p1 300\n",
       "s1 p2 200\n",
       "s1 p3 400\n",
       "s1 p4 200\n",
       "s4 p5 100\n",
       "s1 p6 100\n",
       "s2 p1 300\n",
       "s2 p2 400\n",
       "s3 p2 200\n",
       "s4 p2 200\n",
       "s4 p4 300\n",
       "s4 p5 400\n"
      ]
     },
     "execution_count": 6,
     "metadata": {},
     "output_type": "execute_result"
    }
   ],
   "source": [
    "sp"
   ]
  },
  {
   "cell_type": "code",
   "execution_count": 7,
   "id": "28f499e2-d58e-49c1-a7ff-2fa96b71d8a0",
   "metadata": {},
   "outputs": [
    {
     "data": {
      "text/plain": [
       "`:../dump/sp\n"
      ]
     },
     "execution_count": 7,
     "metadata": {},
     "output_type": "execute_result"
    }
   ],
   "source": [
    "save `:../dump/sp"
   ]
  },
  {
   "cell_type": "code",
   "execution_count": 8,
   "id": "298e9386-1e67-43d1-ace6-3f34e0acc4bf",
   "metadata": {},
   "outputs": [
    {
     "data": {
      "text/plain": [
       "`:../dump/sp.xls\n"
      ]
     },
     "execution_count": 8,
     "metadata": {},
     "output_type": "execute_result"
    }
   ],
   "source": [
    "save `:../dump/sp.xls"
   ]
  },
  {
   "cell_type": "code",
   "execution_count": 9,
   "id": "256eda3f-cc06-4bc6-855f-3b9a9a97ff86",
   "metadata": {},
   "outputs": [
    {
     "data": {
      "text/plain": [
       "\"https://code.kx.com/download/data/example.csv\"\n"
      ]
     },
     "execution_count": 9,
     "metadata": {},
     "output_type": "execute_result"
    }
   ],
   "source": [
    "url:\"https://code.kx.com/download/data/example.csv\"\n",
    "url"
   ]
  },
  {
   "cell_type": "code",
   "execution_count": 10,
   "id": "1de94e83-e0cd-4da5-a6a1-6b7e4923d901",
   "metadata": {},
   "outputs": [
    {
     "data": {
      "text/plain": [
       "10000\n"
      ]
     },
     "execution_count": 10,
     "metadata": {},
     "output_type": "execute_result"
    }
   ],
   "source": [
    "count t:(\"SFI\";enlist csv)0: system \"curl -Ls \",url"
   ]
  },
  {
   "cell_type": "code",
   "execution_count": 11,
   "id": "d8a8817e-1f79-4079-9521-1ec97c0b1f52",
   "metadata": {},
   "outputs": [
    {
     "data": {
      "text/plain": [
       "id   price qty\n",
       "--------------\n",
       "kikb 36.05 90 \n",
       "hlfe 96.57 84 \n",
       "mcej 91.34 63 \n",
       "iemn 57.12 93 \n",
       "femn 63.64 54 \n",
       "engn 94.56 38 \n",
       "edhp 63.31 97 \n",
       "ggna 72.39 88 \n",
       "mjlg 12.04 58 \n",
       "fpjb 34.3  68 \n",
       "gfpl 25.34 45 \n",
       "jogj 78.67 2  \n",
       "gpna 23.08 39 \n",
       "njoh 91.46 64 \n",
       "aoap 48.38 49 \n",
       "bhan 63.2  82 \n",
       "enmc 70    40 \n",
       "niom 58.92 88 \n",
       "nblh 42.9  77 \n",
       "jdok 9.42  30 \n",
       "..\n"
      ]
     },
     "execution_count": 11,
     "metadata": {},
     "output_type": "execute_result"
    }
   ],
   "source": [
    "t"
   ]
  },
  {
   "cell_type": "code",
   "execution_count": 12,
   "id": "0a5ebac7-bd89-4978-b07f-2fbf67641d17",
   "metadata": {},
   "outputs": [
    {
     "data": {
      "text/plain": [
       "`:../dump/example.csv\n"
      ]
     },
     "execution_count": 12,
     "metadata": {},
     "output_type": "execute_result"
    }
   ],
   "source": [
    "`:../dump/example.csv set t"
   ]
  },
  {
   "cell_type": "code",
   "execution_count": 13,
   "id": "bf4a9608-4e78-4047-aba6-29a8a14ffbc3",
   "metadata": {},
   "outputs": [
    {
     "data": {
      "text/plain": [
       "s  p  qty\n",
       "---------\n",
       "s1 p1 300\n",
       "s1 p3 400\n",
       "s2 p1 300\n",
       "s2 p2 400\n",
       "s4 p4 300\n",
       "s4 p5 400\n"
      ]
     },
     "execution_count": 13,
     "metadata": {},
     "output_type": "execute_result"
    }
   ],
   "source": [
    "select from sp where qty>200"
   ]
  },
  {
   "cell_type": "code",
   "execution_count": 14,
   "id": "aa4487f9-0b6e-49ae-a336-1e45de37ea6f",
   "metadata": {},
   "outputs": [
    {
     "data": {
      "text/plain": [
       "s  p  qty\n",
       "---------\n",
       "s1 p1 300\n",
       "s1 p2 400\n",
       "s1 p3 400\n",
       "s1 p4 200\n",
       "s4 p5 100\n",
       "s1 p6 100\n",
       "s2 p1 300\n",
       "s2 p2 800\n",
       "s3 p2 400\n",
       "s4 p2 400\n",
       "s4 p4 300\n",
       "s4 p5 400\n"
      ]
     },
     "execution_count": 14,
     "metadata": {},
     "output_type": "execute_result"
    }
   ],
   "source": [
    "update qty:qty*2 from sp where p=`p2"
   ]
  },
  {
   "cell_type": "code",
   "execution_count": 15,
   "id": "fe14d859-c644-483e-b25f-6ad16531623f",
   "metadata": {},
   "outputs": [
    {
     "data": {
      "text/plain": [
       "3.141593 6.283185 9.424778\n"
      ]
     },
     "execution_count": 15,
     "metadata": {},
     "output_type": "execute_result"
    }
   ],
   "source": [
    "1 2 3*acos -1"
   ]
  },
  {
   "cell_type": "code",
   "execution_count": 16,
   "id": "e4667745-a180-479e-a6b2-0d9e2a236a7d",
   "metadata": {},
   "outputs": [
    {
     "data": {
      "text/plain": [
       "3\n"
      ]
     },
     "execution_count": 16,
     "metadata": {},
     "output_type": "execute_result"
    }
   ],
   "source": [
    "count 2019.07.05 2019.09.15 2019.11.16"
   ]
  },
  {
   "cell_type": "code",
   "execution_count": 17,
   "id": "02c6374f-1696-45ff-b080-4f8de1f20c47",
   "metadata": {},
   "outputs": [
    {
     "data": {
      "text/plain": [
       "3\n"
      ]
     },
     "execution_count": 17,
     "metadata": {},
     "output_type": "execute_result"
    }
   ],
   "source": [
    "count 08:30 12:45 17:15"
   ]
  },
  {
   "cell_type": "code",
   "execution_count": 18,
   "id": "ec9ed323-7db1-4419-8c69-874a062990c4",
   "metadata": {},
   "outputs": [
    {
     "data": {
      "text/plain": [
       "3\n"
      ]
     },
     "execution_count": 18,
     "metadata": {},
     "output_type": "execute_result"
    }
   ],
   "source": [
    "count 22:45:53.600 22:45:53.601 22:45:53.602"
   ]
  },
  {
   "cell_type": "code",
   "execution_count": 19,
   "id": "9a0518b9-eb1b-41bb-b8eb-7f465e8ab6e8",
   "metadata": {},
   "outputs": [
    {
     "data": {
      "text/plain": [
       "3\n"
      ]
     },
     "execution_count": 19,
     "metadata": {},
     "output_type": "execute_result"
    }
   ],
   "source": [
    "count \"fox\""
   ]
  },
  {
   "cell_type": "code",
   "execution_count": 20,
   "id": "70d23961-5387-48f0-bcaf-442c21b3c348",
   "metadata": {},
   "outputs": [
    {
     "data": {
      "text/plain": [
       "3\n"
      ]
     },
     "execution_count": 20,
     "metadata": {},
     "output_type": "execute_result"
    }
   ],
   "source": [
    "count (\"quick\";\"brown\";\"fox\")"
   ]
  },
  {
   "cell_type": "code",
   "execution_count": 21,
   "id": "d7770205-09a5-4eeb-b83e-2c18e7f7415e",
   "metadata": {},
   "outputs": [
    {
     "data": {
      "text/plain": [
       "5 5 3\n"
      ]
     },
     "execution_count": 21,
     "metadata": {},
     "output_type": "execute_result"
    }
   ],
   "source": [
    "count each (\"quick\";\"brown\";\"fox\")"
   ]
  },
  {
   "cell_type": "code",
   "execution_count": 22,
   "id": "b5c3c74b-d4f4-4d4a-a415-ea5c3bc64b00",
   "metadata": {},
   "outputs": [
    {
     "data": {
      "text/plain": [
       "3\n"
      ]
     },
     "execution_count": 22,
     "metadata": {},
     "output_type": "execute_result"
    }
   ],
   "source": [
    "count `quick`brown`fox"
   ]
  },
  {
   "cell_type": "code",
   "execution_count": 23,
   "id": "309181f9-7603-424e-ba71-88c1d053d659",
   "metadata": {},
   "outputs": [
    {
     "data": {
      "text/plain": [
       "1 1 1\n"
      ]
     },
     "execution_count": 23,
     "metadata": {},
     "output_type": "execute_result"
    }
   ],
   "source": [
    "count each `quick`brown`foxes"
   ]
  },
  {
   "cell_type": "code",
   "execution_count": 24,
   "id": "ca37810b-68ae-4ab6-b8e1-65dcf06ebb3d",
   "metadata": {},
   "outputs": [
    {
     "data": {
      "text/plain": [
       "4\n"
      ]
     },
     "execution_count": 24,
     "metadata": {},
     "output_type": "execute_result"
    }
   ],
   "source": [
    "count (42;\"foxes\";`screw`bolt;2020.09.15)"
   ]
  },
  {
   "cell_type": "code",
   "execution_count": 25,
   "id": "b7317bf8-f1fe-4379-be87-0d8bf3bf0149",
   "metadata": {},
   "outputs": [
    {
     "data": {
      "text/plain": [
       "4\n"
      ]
     },
     "execution_count": 25,
     "metadata": {},
     "output_type": "execute_result"
    }
   ],
   "source": [
    "count 3 1 4 5"
   ]
  },
  {
   "cell_type": "code",
   "execution_count": 26,
   "id": "4bfad8ef-9608-4142-8a7c-a9869caeb0bd",
   "metadata": {},
   "outputs": [
    {
     "data": {
      "text/plain": [
       "4\n"
      ]
     },
     "execution_count": 26,
     "metadata": {},
     "output_type": "execute_result"
    }
   ],
   "source": [
    "count 3 1 4 5.9"
   ]
  },
  {
   "cell_type": "code",
   "execution_count": 27,
   "id": "78ba5237-63b6-4e05-8666-4921ee1666f5",
   "metadata": {},
   "outputs": [
    {
     "data": {
      "text/plain": [
       "4\n"
      ]
     },
     "execution_count": 27,
     "metadata": {},
     "output_type": "execute_result"
    }
   ],
   "source": [
    "count \"jump\""
   ]
  },
  {
   "cell_type": "code",
   "execution_count": 28,
   "id": "4f5f0b30-da79-430b-bf47-9a5e93be0c11",
   "metadata": {},
   "outputs": [
    {
     "data": {
      "text/plain": [
       "1010b\n"
      ]
     },
     "execution_count": 28,
     "metadata": {},
     "output_type": "execute_result"
    }
   ],
   "source": [
    "\"jump\"<\"n\""
   ]
  },
  {
   "cell_type": "code",
   "execution_count": 29,
   "id": "8ff7acf9-deee-4e0c-9ccd-2611627ec069",
   "metadata": {},
   "outputs": [
    {
     "data": {
      "text/plain": [
       "4\n"
      ]
     },
     "execution_count": 29,
     "metadata": {},
     "output_type": "execute_result"
    }
   ],
   "source": [
    "count `cow`sheep`cat`dog"
   ]
  },
  {
   "cell_type": "code",
   "execution_count": 30,
   "id": "1ceb92aa-17f5-489b-addb-cc441cd1b78b",
   "metadata": {},
   "outputs": [
    {
     "data": {
      "text/plain": [
       "2020.01.31 2020.03.01 2020.03.31 2020.04.30\n"
      ]
     },
     "execution_count": 30,
     "metadata": {},
     "output_type": "execute_result"
    }
   ],
   "source": [
    "2020.01.01+30 60 90 120"
   ]
  },
  {
   "cell_type": "code",
   "execution_count": 31,
   "id": "798231bb-680d-4751-824c-abffd91753f5",
   "metadata": {},
   "outputs": [
    {
     "data": {
      "text/plain": [
       "12:30 13:00 13:30 14:00\n"
      ]
     },
     "execution_count": 31,
     "metadata": {},
     "output_type": "execute_result"
    }
   ],
   "source": [
    "12:00+30 60 90 120"
   ]
  },
  {
   "cell_type": "code",
   "execution_count": 32,
   "id": "085b50b1-c81b-4e6c-a4ec-143e5385edc7",
   "metadata": {},
   "outputs": [
    {
     "data": {
      "text/plain": [
       "\"deaf\"\n"
      ]
     },
     "execution_count": 32,
     "metadata": {},
     "output_type": "execute_result"
    }
   ],
   "source": [
    "\"abcdef\"[3 4 0 5]"
   ]
  },
  {
   "cell_type": "code",
   "execution_count": 33,
   "id": "5b123c31-cf46-4196-a9af-3e1602fff4eb",
   "metadata": {},
   "outputs": [
    {
     "data": {
      "text/plain": [
       "4\n"
      ]
     },
     "execution_count": 33,
     "metadata": {},
     "output_type": "execute_result"
    }
   ],
   "source": [
    "count[3 1 4 5]"
   ]
  },
  {
   "cell_type": "code",
   "execution_count": 34,
   "id": "b5db813c-3e54-4db1-adaf-b781c3490714",
   "metadata": {},
   "outputs": [
    {
     "data": {
      "text/plain": [
       "4\n"
      ]
     },
     "execution_count": 34,
     "metadata": {},
     "output_type": "execute_result"
    }
   ],
   "source": [
    "count 3 1 4 5"
   ]
  },
  {
   "cell_type": "code",
   "execution_count": 35,
   "id": "931f8cbe-62c6-4116-8e3c-54a91e3f1c86",
   "metadata": {},
   "outputs": [
    {
     "data": {
      "text/plain": [
       "\"feed\"\n"
      ]
     },
     "execution_count": 35,
     "metadata": {},
     "output_type": "execute_result"
    }
   ],
   "source": [
    "\"abcdef\" 5 4 4 3"
   ]
  },
  {
   "cell_type": "code",
   "execution_count": 36,
   "id": "0418085e-65fd-4bd6-a72f-537fa938f7b9",
   "metadata": {},
   "outputs": [
    {
     "data": {
      "text/plain": [
       "s  p  qty\n",
       "---------\n",
       "s1 p1 300\n",
       "s1 p3 400\n"
      ]
     },
     "execution_count": 36,
     "metadata": {},
     "output_type": "execute_result"
    }
   ],
   "source": [
    "sp 0 2"
   ]
  },
  {
   "cell_type": "code",
   "execution_count": 37,
   "id": "dfdd57c5-8056-494d-8a42-9d64bbea9201",
   "metadata": {},
   "outputs": [
    {
     "data": {
      "text/plain": [
       "s1 s1 s1 s1 s4 s1 s2 s2 s3 s4 s4 s4\n",
       "p1 p2 p3 p4 p5 p6 p1 p2 p2 p2 p4 p5\n"
      ]
     },
     "execution_count": 37,
     "metadata": {},
     "output_type": "execute_result"
    }
   ],
   "source": [
    "sp `s`p"
   ]
  },
  {
   "cell_type": "code",
   "execution_count": 38,
   "id": "6fe505de-8b7d-4611-b04c-3164eefa7853",
   "metadata": {},
   "outputs": [
    {
     "data": {
      "text/plain": [
       "300 200 400 200 100 100 300 400 200 200 300 400\n"
      ]
     },
     "execution_count": 38,
     "metadata": {},
     "output_type": "execute_result"
    }
   ],
   "source": [
    "sp[`qty]"
   ]
  },
  {
   "cell_type": "code",
   "execution_count": 39,
   "id": "e408d70c-a767-45ff-acce-3f48b88d9c96",
   "metadata": {},
   "outputs": [
    {
     "data": {
      "text/plain": [
       "101000110011b\n"
      ]
     },
     "execution_count": 39,
     "metadata": {},
     "output_type": "execute_result"
    }
   ],
   "source": [
    "sp[`qty]>200"
   ]
  },
  {
   "cell_type": "code",
   "execution_count": 40,
   "id": "00178ab5-8c38-4986-a45f-d52b911f7703",
   "metadata": {},
   "outputs": [
    {
     "data": {
      "text/plain": [
       "0 2 6 7 10 11\n"
      ]
     },
     "execution_count": 40,
     "metadata": {},
     "output_type": "execute_result"
    }
   ],
   "source": [
    "where sp[`qty]>200"
   ]
  },
  {
   "cell_type": "code",
   "execution_count": 41,
   "id": "0105c3fd-72e4-42c1-bd8f-4929888b5de1",
   "metadata": {},
   "outputs": [
    {
     "data": {
      "text/plain": [
       "s  p  qty\n",
       "---------\n",
       "s1 p1 300\n",
       "s1 p3 400\n",
       "s2 p1 300\n",
       "s2 p2 400\n",
       "s4 p4 300\n",
       "s4 p5 400\n"
      ]
     },
     "execution_count": 41,
     "metadata": {},
     "output_type": "execute_result"
    }
   ],
   "source": [
    "sp where sp[`qty]>200"
   ]
  },
  {
   "cell_type": "code",
   "execution_count": 42,
   "id": "dca70778-a3af-4d0c-a84d-90f793d3c0e2",
   "metadata": {},
   "outputs": [
    {
     "data": {
      "text/plain": [
       "item | `screw\n",
       "qty  | 500\n",
       "price| 1.95\n"
      ]
     },
     "execution_count": 42,
     "metadata": {},
     "output_type": "execute_result"
    }
   ],
   "source": [
    "`item`qty`price!(`screw;500;1.95)"
   ]
  },
  {
   "cell_type": "code",
   "execution_count": 43,
   "id": "1fe0505e-5010-4e7a-89dd-8057948cafca",
   "metadata": {},
   "outputs": [
    {
     "data": {
      "text/plain": [
       "screw| 0.75\n",
       "nail | 3\n",
       "bolt | 2.85\n",
       "nut  | 0.55\n"
      ]
     },
     "execution_count": 43,
     "metadata": {},
     "output_type": "execute_result"
    }
   ],
   "source": [
    "pr:`screw`nail`bolt`nut!0.75 3 2.85 0.55\n",
    "pr"
   ]
  },
  {
   "cell_type": "code",
   "execution_count": 44,
   "id": "17dac096-5ebf-43f9-94ab-3be06e8938cc",
   "metadata": {},
   "outputs": [
    {
     "data": {
      "text/plain": [
       "2.85 0.55\n"
      ]
     },
     "execution_count": 44,
     "metadata": {},
     "output_type": "execute_result"
    }
   ],
   "source": [
    "pr `bolt`nut"
   ]
  },
  {
   "cell_type": "code",
   "execution_count": 45,
   "id": "9120504b-0d9e-4540-810f-e79180001880",
   "metadata": {},
   "outputs": [
    {
     "data": {
      "text/plain": [
       "screw| 0\n",
       "nail | 1\n",
       "bolt | 1\n",
       "nut  | 0\n"
      ]
     },
     "execution_count": 45,
     "metadata": {},
     "output_type": "execute_result"
    }
   ],
   "source": [
    "pr>2"
   ]
  },
  {
   "cell_type": "code",
   "execution_count": 46,
   "id": "5adfda8c-1b36-47d1-8261-dbf8ea1772e9",
   "metadata": {},
   "outputs": [
    {
     "data": {
      "text/plain": [
       "screw| 0.75\n",
       "nail | 3.15\n",
       "bolt | 2.9925\n",
       "nut  | 0.55\n"
      ]
     },
     "execution_count": 46,
     "metadata": {},
     "output_type": "execute_result"
    }
   ],
   "source": [
    "pr+(.05*pr*pr>2)"
   ]
  },
  {
   "cell_type": "code",
   "execution_count": 47,
   "id": "3c3ed7a6-a91f-4122-a75a-48e6c0c5d9b0",
   "metadata": {},
   "outputs": [
    {
     "data": {
      "text/plain": [
       "s  | `s$`s1\n",
       "p  | `p$`p1\n",
       "qty| 300\n"
      ]
     },
     "execution_count": 47,
     "metadata": {},
     "output_type": "execute_result"
    }
   ],
   "source": [
    "sp 0"
   ]
  },
  {
   "cell_type": "code",
   "execution_count": 48,
   "id": "ce266829-cfdb-404a-b539-d1552b03b644",
   "metadata": {},
   "outputs": [
    {
     "data": {
      "text/plain": [
       "s  p  qty\n",
       "---------\n",
       "s1 p1 300\n",
       "s1 p2 200\n",
       "s1 p3 400\n",
       "s1 p4 200\n",
       "s4 p5 100\n",
       "s1 p6 100\n",
       "s2 p1 300\n",
       "s2 p2 400\n",
       "s3 p2 200\n",
       "s4 p2 200\n",
       "s4 p4 300\n",
       "s4 p5 400\n",
       "s5 p3 159\n"
      ]
     },
     "execution_count": 48,
     "metadata": {},
     "output_type": "execute_result"
    }
   ],
   "source": [
    "sp,`s`p`qty!(`s5;`p3;159)"
   ]
  },
  {
   "cell_type": "code",
   "execution_count": 49,
   "id": "39482c85-82e5-429d-979b-1ec0cb5a30b3",
   "metadata": {},
   "outputs": [
    {
     "data": {
      "text/plain": [
       "4 2.25 289\n"
      ]
     },
     "execution_count": 49,
     "metadata": {},
     "output_type": "execute_result"
    }
   ],
   "source": [
    "{x*x}2 -1.5 17"
   ]
  },
  {
   "cell_type": "code",
   "execution_count": 50,
   "id": "2391f557-c5c4-481f-a691-1d41c0dbefd0",
   "metadata": {},
   "outputs": [
    {
     "data": {
      "text/plain": [
       "\"<a href=\\\"https://example.com/\\\">link text</a>\"\n"
      ]
     },
     "execution_count": 50,
     "metadata": {},
     "output_type": "execute_result"
    }
   ],
   "source": [
    "el:{[e;a;v;c]\"<\",e,\" \",a,\"=\\\"\",v,\"\\\">\",c,\"</\",e,\">\"}\n",
    "el[\"a\";\"href\";\"https://example.com/\";\"link text\"]"
   ]
  },
  {
   "cell_type": "code",
   "execution_count": 51,
   "id": "f651cb51-fc8c-487d-8952-464cc4756466",
   "metadata": {},
   "outputs": [
    {
     "data": {
      "text/plain": [
       "12 13 14\n"
      ]
     },
     "execution_count": 51,
     "metadata": {},
     "output_type": "execute_result"
    }
   ],
   "source": [
    "2 3 4 + 10"
   ]
  },
  {
   "cell_type": "code",
   "execution_count": 52,
   "id": "5ad0c739-f267-46aa-bd8e-f94237c599e5",
   "metadata": {},
   "outputs": [
    {
     "data": {
      "text/plain": [
       "12 103 1004\n"
      ]
     },
     "execution_count": 52,
     "metadata": {},
     "output_type": "execute_result"
    }
   ],
   "source": [
    "2 3 4 + 10 100 1000"
   ]
  },
  {
   "cell_type": "code",
   "execution_count": 53,
   "id": "deebd533-3b94-4c9a-89a5-6e4af320134c",
   "metadata": {},
   "outputs": [
    {
     "data": {
      "text/plain": [
       "5 5 3\n"
      ]
     },
     "execution_count": 53,
     "metadata": {},
     "output_type": "execute_result"
    }
   ],
   "source": [
    "count each (\"quick\";\"brown\";\"fox\")"
   ]
  },
  {
   "cell_type": "code",
   "execution_count": 54,
   "id": "3777472c-7bbf-44e8-bd18-2c136b0edaa8",
   "metadata": {},
   "outputs": [
    {
     "data": {
      "text/plain": [
       "\"<p>The quick brown fox</p>\"\n"
      ]
     },
     "execution_count": 54,
     "metadata": {},
     "output_type": "execute_result"
    }
   ],
   "source": [
    ".h.htc[`p;\"The quick brown fox\"]"
   ]
  },
  {
   "cell_type": "code",
   "execution_count": 55,
   "id": "57295dca-9a10-4c4a-8df8-3d81fd96592e",
   "metadata": {},
   "outputs": [
    {
     "data": {
      "text/plain": [
       "\"<html><body><p>The quick brown fox</p></body></html>\"\n"
      ]
     },
     "execution_count": 55,
     "metadata": {},
     "output_type": "execute_result"
    }
   ],
   "source": [
    "\"The quick brown fox\" {.h.htc[y;x]}/ `p`body`html"
   ]
  },
  {
   "cell_type": "code",
   "execution_count": 56,
   "id": "ff838d9f-ab4c-42d8-9e58-254a428697c3",
   "metadata": {},
   "outputs": [
    {
     "data": {
      "text/plain": [
       "1 1\n",
       "1 1 2\n",
       "1 1 2 3\n",
       "1 1 2 3 5\n",
       "1 1 2 3 5 8\n",
       "1 1 2 3 5 8 13\n",
       "1 1 2 3 5 8 13 21\n",
       "1 1 2 3 5 8 13 21 34\n",
       "1 1 2 3 5 8 13 21 34 55\n"
      ]
     },
     "execution_count": 56,
     "metadata": {},
     "output_type": "execute_result"
    }
   ],
   "source": [
    "8 {x,sum -2#x}\\1 1"
   ]
  },
  {
   "cell_type": "code",
   "execution_count": 57,
   "id": "c60e0826-c9ab-4081-b976-a58928598fcd",
   "metadata": {},
   "outputs": [
    {
     "data": {
      "text/plain": [
       "`p`s`sp`t\n"
      ]
     },
     "execution_count": 57,
     "metadata": {},
     "output_type": "execute_result"
    }
   ],
   "source": [
    "tables[]"
   ]
  },
  {
   "cell_type": "code",
   "execution_count": 58,
   "id": "a96e9c84-c029-4b09-90cc-a22b1dc96050",
   "metadata": {},
   "outputs": [],
   "source": [
    "\\p 8090"
   ]
  },
  {
   "cell_type": "code",
   "execution_count": null,
   "id": "c16fabd4-e947-4b13-84e9-bf085c796b2f",
   "metadata": {},
   "outputs": [],
   "source": []
  }
 ],
 "metadata": {
  "kernelspec": {
   "display_name": "Q (kdb+)",
   "language": "q",
   "name": "qpk"
  },
  "language_info": {
   "file_extension": ".q",
   "mimetype": "text/x-q",
   "name": "q",
   "version": "4.1.0"
  }
 },
 "nbformat": 4,
 "nbformat_minor": 5
}
