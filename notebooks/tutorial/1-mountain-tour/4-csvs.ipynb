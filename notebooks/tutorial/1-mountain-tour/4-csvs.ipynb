{
 "cells": [
  {
   "cell_type": "code",
   "execution_count": 1,
   "id": "27a7338e-67af-4583-8ea6-8ee836d33d13",
   "metadata": {},
   "outputs": [
    {
     "data": {
      "text/plain": [
       "\"id,price,qty\"\n",
       "\"kikb,36.05,90\"\n",
       "\"hlfe,96.57,84\"\n",
       "\"mcej,91.34,63\"\n",
       "\"iemn,57.12,93\"\n",
       "\"femn,63.64,54\"\n",
       "\"engn,94.56,38\"\n",
       "\"edhp,63.31,97\"\n",
       "\"ggna,72.39,88\"\n",
       "\"mjlg,12.04,58\"\n",
       "\"fpjb,34.3,68\"\n",
       "\"gfpl,25.34,45\"\n",
       "\"jogj,78.67,2\"\n",
       "\"gpna,23.08,39\"\n",
       "\"njoh,91.46,64\"\n",
       "\"aoap,48.38,49\"\n",
       "\"bhan,63.2,82\"\n",
       "\"enmc,70,40\"\n",
       "\"niom,58.92,88\"\n",
       "\"nblh,42.9,77\"\n",
       "\"jdok,9.42,30\"\n",
       "\"plbp,42.38,17\"\n",
       "..\n"
      ]
     },
     "execution_count": 1,
     "metadata": {},
     "output_type": "execute_result"
    }
   ],
   "source": [
    "read0 `:../../../data/example.csv"
   ]
  },
  {
   "cell_type": "code",
   "execution_count": 2,
   "id": "0b40b303-6776-43be-aa2f-9b25b5dbec50",
   "metadata": {},
   "outputs": [
    {
     "data": {
      "text/plain": [
       "id   price qty\n",
       "--------------\n",
       "kikb 36.05 90 \n",
       "hlfe 96.57 84 \n",
       "mcej 91.34 63 \n",
       "iemn 57.12 93 \n",
       "femn 63.64 54 \n",
       "engn 94.56 38 \n",
       "edhp 63.31 97 \n",
       "ggna 72.39 88 \n",
       "mjlg 12.04 58 \n",
       "fpjb 34.3  68 \n",
       "gfpl 25.34 45 \n",
       "jogj 78.67 2  \n",
       "gpna 23.08 39 \n",
       "njoh 91.46 64 \n",
       "aoap 48.38 49 \n",
       "bhan 63.2  82 \n",
       "enmc 70    40 \n",
       "niom 58.92 88 \n",
       "nblh 42.9  77 \n",
       "jdok 9.42  30 \n",
       "..\n"
      ]
     },
     "execution_count": 2,
     "metadata": {},
     "output_type": "execute_result"
    }
   ],
   "source": [
    "t:(\"SFI\";enlist\",\") 0: `:../../../data/example.csv\n",
    "t"
   ]
  },
  {
   "cell_type": "code",
   "execution_count": 3,
   "id": "79241c79-7bba-4fd6-bae2-813773c90a93",
   "metadata": {},
   "outputs": [
    {
     "data": {
      "text/plain": [
       "`:../../../dump/t.csv\n"
      ]
     },
     "execution_count": 3,
     "metadata": {},
     "output_type": "execute_result"
    }
   ],
   "source": [
    "save `:../../../dump/t.csv"
   ]
  },
  {
   "cell_type": "code",
   "execution_count": 4,
   "id": "d5b8ff99-11ae-40e4-b02e-8ede202c8832",
   "metadata": {},
   "outputs": [
    {
     "data": {
      "text/plain": [
       "`:../../../dump/t.csv\n"
      ]
     },
     "execution_count": 4,
     "metadata": {},
     "output_type": "execute_result"
    }
   ],
   "source": [
    "`:../../../dump/t.csv 0: \"\\t\" 0: t"
   ]
  }
 ],
 "metadata": {
  "kernelspec": {
   "display_name": "Q (kdb+)",
   "language": "q",
   "name": "qpk"
  },
  "language_info": {
   "file_extension": ".q",
   "mimetype": "text/x-q",
   "name": "q",
   "version": "4.1.0"
  }
 },
 "nbformat": 4,
 "nbformat_minor": 5
}
