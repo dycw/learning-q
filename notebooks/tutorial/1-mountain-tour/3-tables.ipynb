{
 "cells": [
  {
   "cell_type": "code",
   "execution_count": 1,
   "id": "8c699143-9eb6-4104-8c32-5e15acc6b10d",
   "metadata": {},
   "outputs": [
    {
     "data": {
      "text/plain": [
       "city         country pop     \n",
       "-----------------------------\n",
       "Istanbul     Turkey  15067724\n",
       "Moscow       Russia  12615279\n",
       "London       UK      9126366 \n",
       "StPetersburg Russia  5383890 \n"
      ]
     },
     "execution_count": 1,
     "metadata": {},
     "output_type": "execute_result"
    }
   ],
   "source": [
    "ec1:([]city:`Istanbul`Moscow`London`StPetersburg;country:`Turkey`Russia`UK`Russia;pop:15067724 12615279 9126366 5383890)\n",
    "ec1"
   ]
  },
  {
   "cell_type": "code",
   "execution_count": 3,
   "id": "a36d4698-5de5-4690-947d-31f8fa1efddb",
   "metadata": {},
   "outputs": [
    {
     "data": {
      "text/plain": [
       "city   | `London\n",
       "country| `UK\n",
       "pop    | 9126366\n"
      ]
     },
     "execution_count": 3,
     "metadata": {},
     "output_type": "execute_result"
    }
   ],
   "source": [
    "ec1 2"
   ]
  },
  {
   "cell_type": "code",
   "execution_count": 6,
   "id": "ee866500-04ff-4bab-a1b4-4d5f6b64b1b2",
   "metadata": {},
   "outputs": [
    {
     "data": {
      "text/plain": [
       "city     country pop     \n",
       "-------------------------\n",
       "London   UK      9126366 \n",
       "Istanbul Turkey  15067724\n"
      ]
     },
     "execution_count": 6,
     "metadata": {},
     "output_type": "execute_result"
    }
   ],
   "source": [
    "ec1 2 0"
   ]
  },
  {
   "cell_type": "code",
   "execution_count": 10,
   "id": "dbd2bffc-2d26-4991-aa8a-416f0afe52bd",
   "metadata": {},
   "outputs": [
    {
     "data": {
      "text/plain": [
       "city   | Istanbul Moscow   London  StPetersburg\n",
       "country| Turkey   Russia   UK      Russia      \n",
       "pop    | 15067724 12615279 9126366 5383890     \n"
      ]
     },
     "execution_count": 10,
     "metadata": {},
     "output_type": "execute_result"
    },
    {
     "data": {
      "text/plain": [
       "`Istanbul`Moscow`London`StPetersburg\n"
      ]
     },
     "execution_count": 10,
     "metadata": {},
     "output_type": "execute_result"
    },
    {
     "data": {
      "text/plain": [
       "`Istanbul`Moscow`London`StPetersburg\n"
      ]
     },
     "execution_count": 10,
     "metadata": {},
     "output_type": "execute_result"
    }
   ],
   "source": [
    "flip ec1"
   ]
  },
  {
   "cell_type": "code",
   "execution_count": 8,
   "id": "57cb1d1c-2ca1-453f-859d-09c8cba32e8d",
   "metadata": {},
   "outputs": [
    {
     "data": {
      "text/plain": [
       "city         country pop     \n",
       "-----------------------------\n",
       "Istanbul     Turkey  15067724\n",
       "Moscow       Russia  12615279\n",
       "London       UK      9126366 \n",
       "StPetersburg Russia  5383890 \n"
      ]
     },
     "execution_count": 8,
     "metadata": {},
     "output_type": "execute_result"
    }
   ],
   "source": [
    "flip flip ec1"
   ]
  },
  {
   "cell_type": "code",
   "execution_count": 12,
   "id": "671634df-a1a8-435f-bd07-dd11c27850ad",
   "metadata": {},
   "outputs": [
    {
     "data": {
      "text/plain": [
       "city   country pop    \n",
       "----------------------\n",
       "Berlin Germany 3748148\n",
       "Kyiv   Ukraine 3703100\n",
       "Madrid Spain   3223334\n"
      ]
     },
     "execution_count": 12,
     "metadata": {},
     "output_type": "execute_result"
    }
   ],
   "source": [
    "ec2:flip`city`country`pop!(`Berlin`Kyiv`Madrid;`Germany`Ukraine`Spain;3748148 3703100 3223334)\n",
    "ec2"
   ]
  },
  {
   "cell_type": "code",
   "execution_count": 13,
   "id": "c8dd2b1a-31f8-4d8e-9be8-26cb08da95b0",
   "metadata": {},
   "outputs": [
    {
     "data": {
      "text/plain": [
       "city         pop     \n",
       "---------------------\n",
       "Berlin       3748148 \n",
       "Kyiv         3703100 \n",
       "Madrid       3223334 \n",
       "Istanbul     15067724\n",
       "Moscow       12615279\n",
       "London       9126366 \n",
       "StPetersburg 5383890 \n"
      ]
     },
     "execution_count": 13,
     "metadata": {},
     "output_type": "execute_result"
    }
   ],
   "source": [
    "select city,pop from ec2 upsert ec1"
   ]
  },
  {
   "cell_type": "code",
   "execution_count": 16,
   "id": "23a461df-4c8c-40c1-a1d2-7d0a056be6cf",
   "metadata": {},
   "outputs": [
    {
     "data": {
      "text/plain": [
       "1 2 3 10 20\n"
      ]
     },
     "execution_count": 16,
     "metadata": {},
     "output_type": "execute_result"
    }
   ],
   "source": [
    "1 2 3,10 20"
   ]
  },
  {
   "cell_type": "code",
   "execution_count": 17,
   "id": "d2f41d36-2fcd-4bd7-8a59-3145d92d5f54",
   "metadata": {},
   "outputs": [
    {
     "data": {
      "text/plain": [
       "\"abcdef\"\n"
      ]
     },
     "execution_count": 17,
     "metadata": {},
     "output_type": "execute_result"
    }
   ],
   "source": [
    "\"abc\",\"def\""
   ]
  },
  {
   "cell_type": "code",
   "execution_count": 22,
   "id": "7cce2240-1f4b-4af4-9acd-baac81f61530",
   "metadata": {},
   "outputs": [
    {
     "data": {
      "text/plain": [
       "city         country pop     \n",
       "-----------------------------\n",
       "Berlin       Germany 3748148 \n",
       "Kyiv         Ukraine 3703100 \n",
       "Madrid       Spain   3223334 \n",
       "Istanbul     Turkey  15067724\n",
       "Moscow       Russia  12615279\n",
       "London       UK      9126366 \n",
       "StPetersburg Russia  5383890 \n"
      ]
     },
     "execution_count": 22,
     "metadata": {},
     "output_type": "execute_result"
    }
   ],
   "source": [
    "ec:ec2,ec1\n",
    "ec"
   ]
  },
  {
   "cell_type": "code",
   "execution_count": 19,
   "id": "9af8b760-6786-4cd4-acfb-cb0a8be7c8ff",
   "metadata": {},
   "outputs": [],
   "source": [
    "conts:`Africa`Asia`Australia`Europe`NorthAmerica`SouthAmerica"
   ]
  },
  {
   "cell_type": "code",
   "execution_count": 20,
   "id": "752516cc-a0dc-47b7-bfb3-a2bf5ed3fcd3",
   "metadata": {},
   "outputs": [
    {
     "data": {
      "text/plain": [
       "`:../../../data/conts\n"
      ]
     },
     "execution_count": 20,
     "metadata": {},
     "output_type": "execute_result"
    }
   ],
   "source": [
    "`:../../../data/conts set conts"
   ]
  },
  {
   "cell_type": "code",
   "execution_count": 21,
   "id": "6a37b3fd-37a6-4d7f-9ba2-46804c4f6cf2",
   "metadata": {},
   "outputs": [
    {
     "data": {
      "text/plain": [
       "`Africa`Asia`Australia`Europe`NorthAmerica`SouthAmerica\n"
      ]
     },
     "execution_count": 21,
     "metadata": {},
     "output_type": "execute_result"
    }
   ],
   "source": [
    "get `:../../../data/conts"
   ]
  },
  {
   "cell_type": "code",
   "execution_count": 23,
   "id": "5605bb5b-bedf-46fc-ba4a-85e1a7c4c170",
   "metadata": {},
   "outputs": [
    {
     "data": {
      "text/plain": [
       "`:../../../data/ec\n"
      ]
     },
     "execution_count": 23,
     "metadata": {},
     "output_type": "execute_result"
    }
   ],
   "source": [
    "`:../../../data/ec set ec"
   ]
  },
  {
   "cell_type": "code",
   "execution_count": 27,
   "id": "18076d25-1ee1-4c51-9544-95771952d7f3",
   "metadata": {},
   "outputs": [
    {
     "data": {
      "text/plain": [
       "city         country pop     \n",
       "-----------------------------\n",
       "Istanbul     Turkey  15067724\n",
       "Moscow       Russia  12615279\n",
       "London       UK      9126366 \n",
       "StPetersburg Russia  5383890 \n"
      ]
     },
     "execution_count": 27,
     "metadata": {},
     "output_type": "execute_result"
    }
   ],
   "source": [
    "select from `:../../../data/ec where pop>5000000"
   ]
  }
 ],
 "metadata": {
  "kernelspec": {
   "display_name": "Q (kdb+)",
   "language": "q",
   "name": "qpk"
  },
  "language_info": {
   "file_extension": ".q",
   "mimetype": "text/x-q",
   "name": "q",
   "version": "4.1.0"
  }
 },
 "nbformat": 4,
 "nbformat_minor": 5
}
