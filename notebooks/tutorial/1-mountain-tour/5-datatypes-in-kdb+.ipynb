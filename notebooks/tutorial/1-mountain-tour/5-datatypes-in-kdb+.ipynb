{
 "cells": [
  {
   "cell_type": "code",
   "execution_count": 1,
   "id": "08f3ab89-b6d5-45d8-ae8a-44ca9500e476",
   "metadata": {},
   "outputs": [
    {
     "data": {
      "text/plain": [
       "7h\n"
      ]
     },
     "execution_count": 1,
     "metadata": {},
     "output_type": "execute_result"
    }
   ],
   "source": [
    "type 42 43 44"
   ]
  },
  {
   "cell_type": "code",
   "execution_count": 2,
   "id": "f399f806-8538-45fb-8c70-6838f3dd9986",
   "metadata": {},
   "outputs": [
    {
     "data": {
      "text/plain": [
       "102h\n"
      ]
     },
     "execution_count": 2,
     "metadata": {},
     "output_type": "execute_result"
    }
   ],
   "source": [
    "type (+)"
   ]
  },
  {
   "cell_type": "code",
   "execution_count": 3,
   "id": "7146d357-5545-45a9-8c61-a30b4ebe0a4e",
   "metadata": {},
   "outputs": [
    {
     "data": {
      "text/plain": [
       "42h\n"
      ]
     },
     "execution_count": 3,
     "metadata": {},
     "output_type": "execute_result"
    },
    {
     "data": {
      "text/plain": [
       "42 43 44h\n"
      ]
     },
     "execution_count": 3,
     "metadata": {},
     "output_type": "execute_result"
    }
   ],
   "source": [
    "42h\n",
    "42 43 44h"
   ]
  },
  {
   "cell_type": "code",
   "execution_count": 4,
   "id": "d1a43bdc-1721-406d-9ca9-48aa11f6015b",
   "metadata": {},
   "outputs": [
    {
     "data": {
      "text/plain": [
       "42i\n"
      ]
     },
     "execution_count": 4,
     "metadata": {},
     "output_type": "execute_result"
    },
    {
     "data": {
      "text/plain": [
       "42 43 44i\n"
      ]
     },
     "execution_count": 4,
     "metadata": {},
     "output_type": "execute_result"
    }
   ],
   "source": [
    "42i \n",
    "42 43 44i"
   ]
  },
  {
   "cell_type": "code",
   "execution_count": 5,
   "id": "1cfbdd99-715e-4f69-86dc-e83a955c2458",
   "metadata": {},
   "outputs": [
    {
     "data": {
      "text/plain": [
       "\"a\"\n"
      ]
     },
     "execution_count": 5,
     "metadata": {},
     "output_type": "execute_result"
    }
   ],
   "source": [
    "\"a\""
   ]
  },
  {
   "cell_type": "code",
   "execution_count": 6,
   "id": "b4a0f239-cf63-4b55-8095-d59cfea1303a",
   "metadata": {},
   "outputs": [
    {
     "data": {
      "text/plain": [
       "\"quick brown fox\"\n"
      ]
     },
     "execution_count": 6,
     "metadata": {},
     "output_type": "execute_result"
    }
   ],
   "source": [
    "\"quick brown fox\""
   ]
  },
  {
   "cell_type": "code",
   "execution_count": 7,
   "id": "3f4c8aa2-d9b0-4eb3-8641-2b061bffe52c",
   "metadata": {},
   "outputs": [
    {
     "data": {
      "text/plain": [
       "\"quick\"\n",
       "\"brown\"\n",
       "\"fox\"\n"
      ]
     },
     "execution_count": 7,
     "metadata": {},
     "output_type": "execute_result"
    }
   ],
   "source": [
    "(\"quick\";\"brown\";\"fox\")"
   ]
  },
  {
   "cell_type": "code",
   "execution_count": 8,
   "id": "41084cc6-e4f3-4242-af1a-849f0cb9300f",
   "metadata": {},
   "outputs": [
    {
     "data": {
      "text/plain": [
       "\"i\"\n"
      ]
     },
     "execution_count": 8,
     "metadata": {},
     "output_type": "execute_result"
    }
   ],
   "source": [
    "s:\"quick\"\n",
    "s[2]"
   ]
  },
  {
   "cell_type": "code",
   "execution_count": 9,
   "id": "0f2e02e5-c2c0-430b-ab23-7c80d833bcad",
   "metadata": {},
   "outputs": [
    {
     "data": {
      "text/plain": [
       "\"quack\"\n"
      ]
     },
     "execution_count": 9,
     "metadata": {},
     "output_type": "execute_result"
    }
   ],
   "source": [
    "s[2]:\"a\"\n",
    "s"
   ]
  },
  {
   "cell_type": "code",
   "execution_count": 10,
   "id": "fc95a517-0dc1-4f90-a6f2-076acd31b766",
   "metadata": {},
   "outputs": [
    {
     "data": {
      "text/plain": [
       "`screw\n"
      ]
     },
     "execution_count": 10,
     "metadata": {},
     "output_type": "execute_result"
    }
   ],
   "source": [
    "`screw"
   ]
  },
  {
   "cell_type": "code",
   "execution_count": 11,
   "id": "d2fb683f-f111-406b-b9ed-2fbf497595fc",
   "metadata": {},
   "outputs": [
    {
     "data": {
      "text/plain": [
       "`screw`nail`screw\n"
      ]
     },
     "execution_count": 11,
     "metadata": {},
     "output_type": "execute_result"
    }
   ],
   "source": [
    "`screw`nail`screw"
   ]
  },
  {
   "cell_type": "code",
   "execution_count": 12,
   "id": "1742107e-ebb2-4ad8-865e-51c7dc265c39",
   "metadata": {},
   "outputs": [
    {
     "data": {
      "text/plain": [
       "3\n"
      ]
     },
     "execution_count": 12,
     "metadata": {},
     "output_type": "execute_result"
    }
   ],
   "source": [
    "count `screw`nail`screw"
   ]
  },
  {
   "cell_type": "code",
   "execution_count": 13,
   "id": "826a4bc2-6571-42b5-9619-cd63b428249c",
   "metadata": {},
   "outputs": [
    {
     "data": {
      "text/plain": [
       "2020.01m\n"
      ]
     },
     "execution_count": 13,
     "metadata": {},
     "output_type": "execute_result"
    },
    {
     "data": {
      "text/plain": [
       "2020.01 2019.08m\n"
      ]
     },
     "execution_count": 13,
     "metadata": {},
     "output_type": "execute_result"
    }
   ],
   "source": [
    "2020.01m\n",
    "2020.01 2019.08m "
   ]
  },
  {
   "cell_type": "code",
   "execution_count": 14,
   "id": "9395c7a9-077a-4977-a614-b9359eca3533",
   "metadata": {},
   "outputs": [
    {
     "data": {
      "text/plain": [
       "2020.01.01\n"
      ]
     },
     "execution_count": 14,
     "metadata": {},
     "output_type": "execute_result"
    },
    {
     "data": {
      "text/plain": [
       "2020.01.01 2020.01.02\n"
      ]
     },
     "execution_count": 14,
     "metadata": {},
     "output_type": "execute_result"
    }
   ],
   "source": [
    "2020.01.01\n",
    "2020.01.01 2020.01.02 "
   ]
  },
  {
   "cell_type": "code",
   "execution_count": 15,
   "id": "6326d6ae-9cb2-4c69-8118-93f355b87c60",
   "metadata": {},
   "outputs": [
    {
     "data": {
      "text/plain": [
       "12:34\n"
      ]
     },
     "execution_count": 15,
     "metadata": {},
     "output_type": "execute_result"
    },
    {
     "data": {
      "text/plain": [
       "12:34 12:46\n"
      ]
     },
     "execution_count": 15,
     "metadata": {},
     "output_type": "execute_result"
    }
   ],
   "source": [
    "12:34 \n",
    "12:34 12:46"
   ]
  },
  {
   "cell_type": "code",
   "execution_count": 16,
   "id": "1124efcd-84eb-4775-a958-4041d089c069",
   "metadata": {},
   "outputs": [
    {
     "data": {
      "text/plain": [
       "12:34:56\n"
      ]
     },
     "execution_count": 16,
     "metadata": {},
     "output_type": "execute_result"
    },
    {
     "data": {
      "text/plain": [
       "12:34:56 12:46:30\n"
      ]
     },
     "execution_count": 16,
     "metadata": {},
     "output_type": "execute_result"
    }
   ],
   "source": [
    "12:34:56\n",
    "12:34:56 12:46:30"
   ]
  },
  {
   "cell_type": "code",
   "execution_count": 17,
   "id": "fd0df027-a63d-42f0-b90d-43a42c9fea43",
   "metadata": {},
   "outputs": [
    {
     "data": {
      "text/plain": [
       "12:34:56.789\n"
      ]
     },
     "execution_count": 17,
     "metadata": {},
     "output_type": "execute_result"
    },
    {
     "data": {
      "text/plain": [
       "12:34:56.789 12:46:30.500\n"
      ]
     },
     "execution_count": 17,
     "metadata": {},
     "output_type": "execute_result"
    }
   ],
   "source": [
    "12:34:56.789\n",
    "12:34:56.789 12:46:30.500"
   ]
  },
  {
   "cell_type": "code",
   "execution_count": 18,
   "id": "3a7fade1-1351-4eef-b7c8-2979e85a1281",
   "metadata": {},
   "outputs": [
    {
     "data": {
      "text/plain": [
       "2020.02.29D12:11:42.381000000\n"
      ]
     },
     "execution_count": 18,
     "metadata": {},
     "output_type": "execute_result"
    }
   ],
   "source": [
    "2020.02.29D12:11:42.381000000"
   ]
  },
  {
   "cell_type": "code",
   "execution_count": 19,
   "id": "dea360db-2198-4709-8b67-38778854c518",
   "metadata": {},
   "outputs": [
    {
     "data": {
      "text/plain": [
       "2020.02.29T12:14:42.718\n"
      ]
     },
     "execution_count": 19,
     "metadata": {},
     "output_type": "execute_result"
    }
   ],
   "source": [
    "2020.02.29T12:14:42.718  / deprecated"
   ]
  },
  {
   "cell_type": "code",
   "execution_count": 20,
   "id": "b24fb253-5375-4a8d-be10-2595b3ddce81",
   "metadata": {},
   "outputs": [
    {
     "data": {
      "text/plain": [
       "0D00:05:14.659000000\n"
      ]
     },
     "execution_count": 20,
     "metadata": {},
     "output_type": "execute_result"
    }
   ],
   "source": [
    "0D00:05:14.659000000"
   ]
  },
  {
   "cell_type": "code",
   "execution_count": 21,
   "id": "464e748d-bb20-4c5f-ab28-a794e04cad44",
   "metadata": {},
   "outputs": [
    {
     "data": {
      "text/plain": [
       "010000100000100000000000000b\n"
      ]
     },
     "execution_count": 21,
     "metadata": {},
     "output_type": "execute_result"
    }
   ],
   "source": [
    "\"Many hands make light work.\"=\"a\""
   ]
  },
  {
   "cell_type": "code",
   "execution_count": 22,
   "id": "4ffb6d08-05ce-4c1c-82de-df7ff1e64dbe",
   "metadata": {},
   "outputs": [
    {
     "data": {
      "text/plain": [
       "bd1f7220-77b8-b872-e737-c59fdad48398 7a2fdb97-966c-dbce-eaff-7c5df2128c8c\n"
      ]
     },
     "execution_count": 22,
     "metadata": {},
     "output_type": "execute_result"
    }
   ],
   "source": [
    "-2?0Ng"
   ]
  }
 ],
 "metadata": {
  "kernelspec": {
   "display_name": "Q (kdb+)",
   "language": "q",
   "name": "qpk"
  },
  "language_info": {
   "file_extension": ".q",
   "mimetype": "text/x-q",
   "name": "q",
   "version": "4.1.0"
  }
 },
 "nbformat": 4,
 "nbformat_minor": 5
}
