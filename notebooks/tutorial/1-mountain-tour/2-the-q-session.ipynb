{
 "cells": [
  {
   "cell_type": "code",
   "execution_count": 1,
   "id": "21bf8814-c68c-4791-9fbc-ef9f2b635047",
   "metadata": {},
   "outputs": [
    {
     "data": {
      "text/plain": [
       "1184.1\n"
      ]
     },
     "execution_count": 1,
     "metadata": {},
     "output_type": "execute_result"
    }
   ],
   "source": [
    "sum 44.95 1032 107.15"
   ]
  },
  {
   "cell_type": "code",
   "execution_count": 2,
   "id": "819179f7-d826-4f3a-a619-56d42b7caa74",
   "metadata": {},
   "outputs": [
    {
     "data": {
      "text/plain": [
       "3.141593\n"
      ]
     },
     "execution_count": 2,
     "metadata": {},
     "output_type": "execute_result"
    }
   ],
   "source": [
    "acos -1"
   ]
  },
  {
   "cell_type": "code",
   "execution_count": 3,
   "id": "276e46ed-df27-4760-bdf7-261b08094318",
   "metadata": {},
   "outputs": [
    {
     "data": {
      "text/plain": [
       "4 5 6\n"
      ]
     },
     "execution_count": 3,
     "metadata": {},
     "output_type": "execute_result"
    }
   ],
   "source": [
    "2+2 3 4"
   ]
  },
  {
   "cell_type": "code",
   "execution_count": 4,
   "id": "aafa3ab2-3c43-4c88-8c7a-183425a0e582",
   "metadata": {},
   "outputs": [
    {
     "data": {
      "text/plain": [
       "3.141593\n"
      ]
     },
     "execution_count": 4,
     "metadata": {},
     "output_type": "execute_result"
    }
   ],
   "source": [
    "pi:acos -1\n",
    "pi"
   ]
  },
  {
   "cell_type": "code",
   "execution_count": 5,
   "id": "58c9b196-a3b3-4e4d-a54b-32d9d32f50f8",
   "metadata": {},
   "outputs": [
    {
     "name": "stdout",
     "output_type": "stream",
     "text": [
      "3.141593\n"
     ]
    }
   ],
   "source": [
    "show pi:acos -1"
   ]
  },
  {
   "cell_type": "code",
   "execution_count": 6,
   "id": "d1c29ae9-3796-447c-894e-b9dd49c61cdf",
   "metadata": {},
   "outputs": [
    {
     "data": {
      "text/plain": [
       "7i\n"
      ]
     },
     "execution_count": 6,
     "metadata": {},
     "output_type": "execute_result"
    }
   ],
   "source": [
    "\\P"
   ]
  },
  {
   "cell_type": "code",
   "execution_count": 7,
   "id": "512bb35d-5c8d-498a-95b1-22ffaf8ac6a8",
   "metadata": {},
   "outputs": [
    {
     "name": "stdout",
     "output_type": "stream",
     "text": [
      "7i\n"
     ]
    }
   ],
   "source": [
    "show p:system\"P\""
   ]
  },
  {
   "cell_type": "code",
   "execution_count": 8,
   "id": "dc29054d-4c0b-4243-b812-b7fa05bd90a8",
   "metadata": {},
   "outputs": [
    {
     "data": {
      "text/plain": [
       "\"total 1296\"\n",
       "\"drwxr-x---+  83 derekwan  staff    2656 Jun 23 16:02 .\"\n",
       "\"drwxr-xr-x    5 root      admin     160 May 22 21:06 ..\"\n",
       "\"-r--------    1 derekwan  staff       7 Mar 23 00:23 .CFUserTextEncoding\"\n",
       "\"-rw-r--r--@   1 derekwan  staff   10244 Jun 22 22:03 .DS_Store\"\n",
       "\"drwx------+  11 derekwan  staff     352 Jun 23 14:13 .Trash\"\n",
       "\"drwxr-xr-x@  13 derekwan  staff     416 Apr 12 00:24 .android\"\n",
       "\"-rw-------@   1 derekwan  staff      21 May 16 14:53 .bash_history\"\n",
       "\"-rw-r--r--@   1 derekwan  staff     516 Jun 23 14:24 .bash_profile\"\n",
       "\"-rw-r--r--    1 derekwan  staff     115 Mar 23 22:44 .bashrc\"\n",
       "\"drwxr-xr-x@  11 derekwan  staff     352 Apr 28 02:15 .cache\"\n",
       "\"drwxr-xr-x    9 derekwan  staff     288 Mar 23 23:10 .cargo\"\n",
       "\"drwxr-xr-x    4 derekwan  staff     128 Apr 17 23:14 .conda\"\n",
       "\"-rw-r--r--    1 derekwan  staff      25 Mar 23 15:21 .condarc\"\n",
       "\"drwxr-xr-x@  21 derekwan  staff     672 Apr 17 23:42 .config\"\n",
       "\"drwx------    3 derekwan  staff      96 Mar 24 21:09 .cups\"\n",
       "\"drwxr-xr-x@   3 derekwan  staff      96 Apr 12 00:21 .dart\"\n",
       "\"drwxr-xr-x@   7 derekwan  staff     224 Apr 11 23:53 .dart-tool\"\n",
       "\"drwxr-xr-x@   5 derekwan  staff     160 Apr 12 00:21 .dartServer\"\n",
       "\"drwxr-xr-x@  18 derekwan  staff     576 Jun 19 19:56 .dropbox\"\n",
       "\"-rw-------@   1 derekwan  staff      16 Apr 11 23:52 .emulator_console_auth_..\n",
       "\"-rw-r--r--@   1 derekwan  staff      78 Apr 11 23:53 .flutter\"\n",
       "..\n"
      ]
     },
     "execution_count": 8,
     "metadata": {},
     "output_type": "execute_result"
    }
   ],
   "source": [
    "\\ls -al ~/."
   ]
  },
  {
   "cell_type": "code",
   "execution_count": 8,
   "id": "3a6ac769-0bd1-43e5-9ad4-2f8cc8acfbea",
   "metadata": {},
   "outputs": [
    {
     "ename": "\u001b[0;31mtype\u001b[0m",
     "evalue": "\u001b[0;31mtype\u001b[0m",
     "output_type": "error",
     "traceback": [
      "\u001b[0;31mevaluation error:\n\u001b[0m",
      "\u001b[0;31mtype\u001b[0m",
      "\u001b[0;31m\u001b[0m",
      "\u001b[0;31m  [0]  2+\"a\"\n        ^\n\u001b[0m"
     ]
    }
   ],
   "source": [
    "2+\"a\""
   ]
  },
  {
   "cell_type": "code",
   "execution_count": 9,
   "id": "8b8cecf9-932d-4a14-a0a3-f4edba6da81b",
   "metadata": {},
   "outputs": [
    {
     "ename": "\u001b[0;31mtype\u001b[0m",
     "evalue": "\u001b[0;31mtype\u001b[0m",
     "output_type": "error",
     "traceback": [
      "\u001b[0;31mevaluation error:\n\u001b[0m",
      "\u001b[0;31mtype\u001b[0m",
      "\u001b[0;31m\u001b[0m",
      "\u001b[0;31m  [1]  {x+2}\n         ^\n\u001b[0m",
      "\u001b[0;31m  [0]  {x+2} \"xyz\"\n       ^\n\u001b[0m"
     ]
    }
   ],
   "source": [
    "{x+2} \"xyz\""
   ]
  },
  {
   "cell_type": "code",
   "execution_count": 9,
   "id": "857a6f42-547a-4f55-b438-29f44bd642b9",
   "metadata": {},
   "outputs": [
    {
     "ename": "\u001b[0;31mdebug\u001b[0m",
     "evalue": "\u001b[0;31mdebug\u001b[0m",
     "output_type": "error",
     "traceback": [
      "\u001b[0;31mevaluation error:\n\u001b[0m",
      "\u001b[0;31mdebug\u001b[0m",
      "\u001b[0;31m\u001b[0m",
      "\u001b[0;31m  [0]  debug\n       ^\n\u001b[0m"
     ]
    }
   ],
   "source": []
  },
  {
   "cell_type": "code",
   "execution_count": null,
   "id": "ce5248e2-a81b-4c5e-99b0-f038bbf05e82",
   "metadata": {},
   "outputs": [],
   "source": []
  }
 ],
 "metadata": {
  "kernelspec": {
   "display_name": "Q (kdb+)",
   "language": "q",
   "name": "qpk"
  },
  "language_info": {
   "file_extension": ".q",
   "mimetype": "text/x-q",
   "name": "q",
   "version": "4.1.0"
  }
 },
 "nbformat": 4,
 "nbformat_minor": 5
}
