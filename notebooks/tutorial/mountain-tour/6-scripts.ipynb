{
 "cells": [
  {
   "cell_type": "code",
   "execution_count": 1,
   "id": "edd1cfc1-635d-42fc-bd63-f6b7dfeb8167",
   "metadata": {},
   "outputs": [],
   "source": [
    "\\l ../../../scripts/jt.q"
   ]
  },
  {
   "cell_type": "code",
   "execution_count": 2,
   "id": "ecdbf8da-c6f8-414b-b0a7-691084003e7a",
   "metadata": {},
   "outputs": [
    {
     "data": {
      "text/plain": [
       "\"<img alt=\\\"Jacques Tati\\\" href=\\\"https://en.wikipedia.org/wiki/Jacques_Tati#..\n"
      ]
     },
     "execution_count": 2,
     "metadata": {},
     "output_type": "execute_result"
    }
   ],
   "source": [
    "portrait jt"
   ]
  },
  {
   "cell_type": "code",
   "execution_count": 3,
   "id": "71c98236-b477-4bf4-94ad-af48160af274",
   "metadata": {},
   "outputs": [],
   "source": [
    "/\n",
    "  This is a comment block.\n",
    "  Q ignores everything in it.\n",
    "\n",
    "  And I mean everything.\n",
    "  2+2\n",
    "\\"
   ]
  }
 ],
 "metadata": {
  "kernelspec": {
   "display_name": "Q (kdb+)",
   "language": "q",
   "name": "qpk"
  },
  "language_info": {
   "file_extension": ".q",
   "mimetype": "text/x-q",
   "name": "q",
   "version": "4.1.0"
  }
 },
 "nbformat": 4,
 "nbformat_minor": 5
}
