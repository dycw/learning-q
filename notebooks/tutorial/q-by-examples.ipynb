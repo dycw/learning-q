{
 "cells": [
  {
   "cell_type": "code",
   "execution_count": 1,
   "id": "63a39a9b-da2d-44cd-a3a6-2296108fd606",
   "metadata": {},
   "outputs": [
    {
     "data": {
      "text/plain": [
       "4\n"
      ]
     },
     "execution_count": 1,
     "metadata": {},
     "output_type": "execute_result"
    }
   ],
   "source": [
    "2+2    "
   ]
  },
  {
   "cell_type": "code",
   "execution_count": 2,
   "id": "eb127bab-4397-4c4e-874f-fb0e26e1f5a8",
   "metadata": {},
   "outputs": [
    {
     "data": {
      "text/plain": [
       "-1\n"
      ]
     },
     "execution_count": 2,
     "metadata": {},
     "output_type": "execute_result"
    }
   ],
   "source": [
    "2-3"
   ]
  },
  {
   "cell_type": "code",
   "execution_count": 3,
   "id": "08cc0dbd-0b00-461a-bf1a-020fcd32160d",
   "metadata": {},
   "outputs": [
    {
     "data": {
      "text/plain": [
       "14\n"
      ]
     },
     "execution_count": 3,
     "metadata": {},
     "output_type": "execute_result"
    }
   ],
   "source": [
    "2*3+4"
   ]
  },
  {
   "cell_type": "code",
   "execution_count": 4,
   "id": "7cc42705-177d-40ad-b3b2-dee50ed6d29b",
   "metadata": {},
   "outputs": [
    {
     "data": {
      "text/plain": [
       "10\n"
      ]
     },
     "execution_count": 4,
     "metadata": {},
     "output_type": "execute_result"
    }
   ],
   "source": [
    "(2*3)+4"
   ]
  },
  {
   "cell_type": "code",
   "execution_count": 5,
   "id": "89991f4f-e37d-44ac-a920-bfe37846c8fd",
   "metadata": {},
   "outputs": [
    {
     "data": {
      "text/plain": [
       "0.75\n"
      ]
     },
     "execution_count": 5,
     "metadata": {},
     "output_type": "execute_result"
    }
   ],
   "source": [
    "3%4"
   ]
  },
  {
   "cell_type": "code",
   "execution_count": 6,
   "id": "4fe699b0-b6b4-47db-a5c0-d5f203e8b85a",
   "metadata": {},
   "outputs": [
    {
     "data": {
      "text/plain": [
       "16\n"
      ]
     },
     "execution_count": 6,
     "metadata": {},
     "output_type": "execute_result"
    }
   ],
   "source": [
    "{x*x}4 "
   ]
  },
  {
   "cell_type": "code",
   "execution_count": 7,
   "id": "3ae28c73-2775-4f32-aae4-207f9c02a0a2",
   "metadata": {},
   "outputs": [
    {
     "data": {
      "text/plain": [
       "2f\n"
      ]
     },
     "execution_count": 7,
     "metadata": {},
     "output_type": "execute_result"
    }
   ],
   "source": [
    "sqrt 4"
   ]
  },
  {
   "cell_type": "code",
   "execution_count": 8,
   "id": "76a266f6-9401-4f5f-80ab-41f7e7fd1845",
   "metadata": {},
   "outputs": [
    {
     "data": {
      "text/plain": [
       "0.25\n"
      ]
     },
     "execution_count": 8,
     "metadata": {},
     "output_type": "execute_result"
    }
   ],
   "source": [
    "reciprocal 4"
   ]
  },
  {
   "cell_type": "code",
   "execution_count": 9,
   "id": "daa806f7-4208-4fa2-9a16-cd327b8d152a",
   "metadata": {},
   "outputs": [
    {
     "data": {
      "text/plain": [
       "2 4 6\n"
      ]
     },
     "execution_count": 9,
     "metadata": {},
     "output_type": "execute_result"
    }
   ],
   "source": [
    "2*1 2 3"
   ]
  },
  {
   "cell_type": "code",
   "execution_count": 10,
   "id": "3b6411a7-73e5-42a7-8595-a421ce3c0ada",
   "metadata": {},
   "outputs": [
    {
     "data": {
      "text/plain": [
       "0.5 0.5 0.5\n"
      ]
     },
     "execution_count": 10,
     "metadata": {},
     "output_type": "execute_result"
    }
   ],
   "source": [
    "1 2 3%2 4 6"
   ]
  },
  {
   "cell_type": "code",
   "execution_count": 11,
   "id": "b1b07fd1-6a06-4247-b92f-6444a0b78b9b",
   "metadata": {},
   "outputs": [
    {
     "data": {
      "text/plain": [
       "3\n"
      ]
     },
     "execution_count": 11,
     "metadata": {},
     "output_type": "execute_result"
    }
   ],
   "source": [
    "count 1 2 3"
   ]
  },
  {
   "cell_type": "code",
   "execution_count": 12,
   "id": "18ab488f-dade-4b56-aa02-3d7da04f3326",
   "metadata": {},
   "outputs": [
    {
     "data": {
      "text/plain": [
       "1 1 1\n"
      ]
     },
     "execution_count": 12,
     "metadata": {},
     "output_type": "execute_result"
    }
   ],
   "source": [
    "3#1"
   ]
  },
  {
   "cell_type": "code",
   "execution_count": 13,
   "id": "d15b4b8d-baf2-4aa0-a3fe-7e183dbba7a8",
   "metadata": {},
   "outputs": [
    {
     "data": {
      "text/plain": [
       "1 2 1 2 1\n"
      ]
     },
     "execution_count": 13,
     "metadata": {},
     "output_type": "execute_result"
    }
   ],
   "source": [
    "5#1 2"
   ]
  },
  {
   "cell_type": "code",
   "execution_count": 14,
   "id": "8770afd1-e056-4edb-b839-4ce4bcb13098",
   "metadata": {},
   "outputs": [
    {
     "data": {
      "text/plain": [
       "1\n"
      ]
     },
     "execution_count": 14,
     "metadata": {},
     "output_type": "execute_result"
    }
   ],
   "source": [
    "first 1 2 3"
   ]
  },
  {
   "cell_type": "code",
   "execution_count": 15,
   "id": "413ada18-6172-44fc-be05-a861037cf920",
   "metadata": {},
   "outputs": [
    {
     "data": {
      "text/plain": [
       "3\n"
      ]
     },
     "execution_count": 15,
     "metadata": {},
     "output_type": "execute_result"
    }
   ],
   "source": [
    "last 1 2 3"
   ]
  },
  {
   "cell_type": "code",
   "execution_count": 16,
   "id": "b4327756-976d-4850-a892-748acbfe1de8",
   "metadata": {},
   "outputs": [
    {
     "data": {
      "text/plain": [
       "2 3\n"
      ]
     },
     "execution_count": 16,
     "metadata": {},
     "output_type": "execute_result"
    }
   ],
   "source": [
    "1_1 2 3"
   ]
  },
  {
   "cell_type": "code",
   "execution_count": 17,
   "id": "8672a44f-58e2-4314-85f2-456154317463",
   "metadata": {},
   "outputs": [
    {
     "data": {
      "text/plain": [
       "1 2\n"
      ]
     },
     "execution_count": 17,
     "metadata": {},
     "output_type": "execute_result"
    }
   ],
   "source": [
    "-1_1 2 3"
   ]
  },
  {
   "cell_type": "code",
   "execution_count": 18,
   "id": "7fe55b03-c95e-4d17-9fbc-f698884cf8a6",
   "metadata": {},
   "outputs": [
    {
     "data": {
      "text/plain": [
       "3 2 1\n"
      ]
     },
     "execution_count": 18,
     "metadata": {},
     "output_type": "execute_result"
    }
   ],
   "source": [
    "reverse 1 2 3"
   ]
  },
  {
   "cell_type": "code",
   "execution_count": 19,
   "id": "58c009bf-5e8b-4f95-950e-875822d7de3c",
   "metadata": {},
   "outputs": [
    {
     "data": {
      "text/plain": [
       "2\n"
      ]
     },
     "execution_count": 19,
     "metadata": {},
     "output_type": "execute_result"
    }
   ],
   "source": [
    "1 2 3@1"
   ]
  },
  {
   "cell_type": "code",
   "execution_count": 20,
   "id": "e1809e46-f972-4a6c-ad73-bb073e8dbe39",
   "metadata": {},
   "outputs": [
    {
     "data": {
      "text/plain": [
       "2 1\n"
      ]
     },
     "execution_count": 20,
     "metadata": {},
     "output_type": "execute_result"
    }
   ],
   "source": [
    "1 2 3@1 0"
   ]
  },
  {
   "cell_type": "code",
   "execution_count": 21,
   "id": "82ff30b9-8a17-465c-b8c3-42a18a113e8a",
   "metadata": {},
   "outputs": [
    {
     "data": {
      "text/plain": [
       "0 1 2\n"
      ]
     },
     "execution_count": 21,
     "metadata": {},
     "output_type": "execute_result"
    }
   ],
   "source": [
    "til 3"
   ]
  },
  {
   "cell_type": "code",
   "execution_count": 22,
   "id": "31e66b21-c86e-4fec-af71-875f7f65a5e0",
   "metadata": {},
   "outputs": [
    {
     "data": {
      "text/plain": [
       "1\n"
      ]
     },
     "execution_count": 22,
     "metadata": {},
     "output_type": "execute_result"
    }
   ],
   "source": [
    "2 4 6?4"
   ]
  },
  {
   "cell_type": "code",
   "execution_count": 23,
   "id": "24686a33-ce8d-4c65-b92a-78f522403f0e",
   "metadata": {},
   "outputs": [
    {
     "data": {
      "text/plain": [
       "1 0 2\n"
      ]
     },
     "execution_count": 23,
     "metadata": {},
     "output_type": "execute_result"
    }
   ],
   "source": [
    "iasc 2 1 6"
   ]
  },
  {
   "cell_type": "code",
   "execution_count": 24,
   "id": "9971a5fb-7249-4ac0-9b25-9ee4a7ea41a2",
   "metadata": {},
   "outputs": [
    {
     "data": {
      "text/plain": [
       "`s#1 2 6\n"
      ]
     },
     "execution_count": 24,
     "metadata": {},
     "output_type": "execute_result"
    }
   ],
   "source": [
    "asc 2 1 6"
   ]
  },
  {
   "cell_type": "code",
   "execution_count": 25,
   "id": "7ffd2ea1-9720-4faf-b4a1-c8974be4b645",
   "metadata": {},
   "outputs": [
    {
     "data": {
      "text/plain": [
       "1 2 3 10 20\n"
      ]
     },
     "execution_count": 25,
     "metadata": {},
     "output_type": "execute_result"
    }
   ],
   "source": [
    "1 2 3,10 20"
   ]
  },
  {
   "cell_type": "code",
   "execution_count": 26,
   "id": "2ecbbfc0-cf6e-49aa-a76b-c04e021828be",
   "metadata": {},
   "outputs": [
    {
     "data": {
      "text/plain": [
       "6\n"
      ]
     },
     "execution_count": 26,
     "metadata": {},
     "output_type": "execute_result"
    }
   ],
   "source": [
    "1+2+3"
   ]
  },
  {
   "cell_type": "code",
   "execution_count": 27,
   "id": "683afd70-71dd-4dfb-a911-00ec992c61f3",
   "metadata": {},
   "outputs": [
    {
     "data": {
      "text/plain": [
       "6\n"
      ]
     },
     "execution_count": 27,
     "metadata": {},
     "output_type": "execute_result"
    }
   ],
   "source": [
    "sum 1 2 3"
   ]
  },
  {
   "cell_type": "code",
   "execution_count": 28,
   "id": "462fd218-59fe-4ab0-9ecf-b8050f4c6c99",
   "metadata": {},
   "outputs": [
    {
     "data": {
      "text/plain": [
       "1 3 6\n"
      ]
     },
     "execution_count": 28,
     "metadata": {},
     "output_type": "execute_result"
    }
   ],
   "source": [
    "sums 1 2 3"
   ]
  },
  {
   "cell_type": "code",
   "execution_count": 29,
   "id": "8eba3dde-573a-4728-aad8-c8c5d8b072dd",
   "metadata": {},
   "outputs": [
    {
     "data": {
      "text/plain": [
       "1 3 6\n"
      ]
     },
     "execution_count": 29,
     "metadata": {},
     "output_type": "execute_result"
    }
   ],
   "source": [
    "1,(1+2),(1+2+3)"
   ]
  },
  {
   "cell_type": "code",
   "execution_count": 30,
   "id": "4235875c-5075-4c4a-b97c-3677ea468408",
   "metadata": {},
   "outputs": [
    {
     "data": {
      "text/plain": [
       "1 3 5 7\n"
      ]
     },
     "execution_count": 30,
     "metadata": {},
     "output_type": "execute_result"
    }
   ],
   "source": [
    "{1_x+prev x}til 5"
   ]
  },
  {
   "cell_type": "code",
   "execution_count": 31,
   "id": "d95e9179-0d6a-419e-98d3-74a38950db2f",
   "metadata": {},
   "outputs": [
    {
     "data": {
      "text/plain": [
       "3 7 5\n"
      ]
     },
     "execution_count": 31,
     "metadata": {},
     "output_type": "execute_result"
    }
   ],
   "source": [
    "sum each{(2*til ceiling .5*count x)_x}1 2 3 4 5"
   ]
  },
  {
   "cell_type": "code",
   "execution_count": 32,
   "id": "90de223f-5ba2-4512-b209-dffa96306f4b",
   "metadata": {},
   "outputs": [
    {
     "data": {
      "text/plain": [
       "1 2\n",
       "3 4 6\n",
       "7 6\n"
      ]
     },
     "execution_count": 32,
     "metadata": {},
     "output_type": "execute_result"
    }
   ],
   "source": [
    "(1 2;3 4 6;7 6)"
   ]
  },
  {
   "cell_type": "code",
   "execution_count": 33,
   "id": "a47fa8cf-7430-4415-83fd-c294e0025e7f",
   "metadata": {},
   "outputs": [
    {
     "data": {
      "text/plain": [
       "3 4 6\n"
      ]
     },
     "execution_count": 33,
     "metadata": {},
     "output_type": "execute_result"
    }
   ],
   "source": [
    "first(3 4 6;7 6)"
   ]
  },
  {
   "cell_type": "code",
   "execution_count": 34,
   "id": "9282651d-05f9-4d57-9bb4-18f6957ff328",
   "metadata": {},
   "outputs": [
    {
     "data": {
      "text/plain": [
       "20\n"
      ]
     },
     "execution_count": 34,
     "metadata": {},
     "output_type": "execute_result"
    }
   ],
   "source": [
    "{x+x*x}4"
   ]
  },
  {
   "cell_type": "code",
   "execution_count": 35,
   "id": "2b71bdda-be02-4a50-8992-cb07e036511a",
   "metadata": {},
   "outputs": [
    {
     "data": {
      "text/plain": [
       "2f\n",
       "16\n"
      ]
     },
     "execution_count": 35,
     "metadata": {},
     "output_type": "execute_result"
    }
   ],
   "source": [
    "(sqrt;{x*x})@\\:4"
   ]
  },
  {
   "cell_type": "code",
   "execution_count": 36,
   "id": "dcfe9d15-28e9-4f57-9c8e-f817da358edc",
   "metadata": {},
   "outputs": [
    {
     "data": {
      "text/plain": [
       "25\n"
      ]
     },
     "execution_count": 36,
     "metadata": {},
     "output_type": "execute_result"
    }
   ],
   "source": [
    "{x*x}sum 2 3"
   ]
  },
  {
   "cell_type": "code",
   "execution_count": 37,
   "id": "20a4979c-300f-4d17-aa3f-564d51f50b42",
   "metadata": {},
   "outputs": [
    {
     "data": {
      "text/plain": [
       "13\n"
      ]
     },
     "execution_count": 37,
     "metadata": {},
     "output_type": "execute_result"
    }
   ],
   "source": [
    "sum{x*x}2 3"
   ]
  },
  {
   "cell_type": "code",
   "execution_count": 38,
   "id": "62ab6282-f901-4114-8284-6cc888ad78f7",
   "metadata": {},
   "outputs": [
    {
     "data": {
      "text/plain": [
       "25\n"
      ]
     },
     "execution_count": 38,
     "metadata": {},
     "output_type": "execute_result"
    }
   ],
   "source": [
    "{sum(x*x),2*/x}2 3"
   ]
  },
  {
   "cell_type": "code",
   "execution_count": 39,
   "id": "0e47a073-6061-4301-baa5-5600f85d48eb",
   "metadata": {},
   "outputs": [
    {
     "data": {
      "text/plain": [
       "5f\n"
      ]
     },
     "execution_count": 39,
     "metadata": {},
     "output_type": "execute_result"
    }
   ],
   "source": [
    "sqrt sum{x*x}3 4"
   ]
  },
  {
   "cell_type": "code",
   "execution_count": 40,
   "id": "53ded664-48e5-4e13-a8d8-486fcead1831",
   "metadata": {},
   "outputs": [
    {
     "data": {
      "text/plain": [
       "-\n"
      ]
     },
     "execution_count": 40,
     "metadata": {},
     "output_type": "execute_result"
    }
   ],
   "source": [
    "d1:-\n",
    "d1"
   ]
  },
  {
   "cell_type": "code",
   "execution_count": 41,
   "id": "6d7d6688-8dfb-495c-b742-73ebea25f7e7",
   "metadata": {},
   "outputs": [
    {
     "data": {
      "text/plain": [
       "{x-y}\n"
      ]
     },
     "execution_count": 41,
     "metadata": {},
     "output_type": "execute_result"
    }
   ],
   "source": [
    "d2:{x-y}\n",
    "d2"
   ]
  },
  {
   "cell_type": "code",
   "execution_count": 42,
   "id": "5aa2b1ae-956a-4df6-a83c-56ee0c36307c",
   "metadata": {},
   "outputs": [
    {
     "data": {
      "text/plain": [
       "-:\n"
      ]
     },
     "execution_count": 42,
     "metadata": {},
     "output_type": "execute_result"
    }
   ],
   "source": [
    "m1:neg\n",
    "m1"
   ]
  },
  {
   "cell_type": "code",
   "execution_count": 43,
   "id": "1902aa54-e2ac-4def-9bd8-f3eb674177b1",
   "metadata": {},
   "outputs": [
    {
     "data": {
      "text/plain": [
       "-[0]\n"
      ]
     },
     "execution_count": 43,
     "metadata": {},
     "output_type": "execute_result"
    }
   ],
   "source": [
    "m2:0-\n",
    "m2"
   ]
  },
  {
   "cell_type": "code",
   "execution_count": 44,
   "id": "3e3bbe02-b102-40c8-b0b7-b2d37735949f",
   "metadata": {},
   "outputs": [
    {
     "data": {
      "text/plain": [
       "{neg x}\n"
      ]
     },
     "execution_count": 44,
     "metadata": {},
     "output_type": "execute_result"
    }
   ],
   "source": [
    "m3:{neg x}\n",
    "m3"
   ]
  },
  {
   "cell_type": "code",
   "execution_count": 45,
   "id": "af9ad8e8-ee85-4727-b976-6e38162e8efa",
   "metadata": {},
   "outputs": [
    {
     "data": {
      "text/plain": [
       "-4 -4 -4\n"
      ]
     },
     "execution_count": 45,
     "metadata": {},
     "output_type": "execute_result"
    }
   ],
   "source": [
    "(m1;m2;m3)@\\:4"
   ]
  },
  {
   "cell_type": "code",
   "execution_count": 46,
   "id": "8bd67637-bd34-4595-97bd-59410d2cd050",
   "metadata": {},
   "outputs": [
    {
     "data": {
      "text/plain": [
       "-1 -1\n"
      ]
     },
     "execution_count": 46,
     "metadata": {},
     "output_type": "execute_result"
    }
   ],
   "source": [
    "(d1;d2).\\:3 4"
   ]
  },
  {
   "cell_type": "code",
   "execution_count": 47,
   "id": "455d4c57-e9a7-44b5-bde1-71a27eaacedf",
   "metadata": {},
   "outputs": [
    {
     "data": {
      "text/plain": [
       "2.718282 5.436564 7.389056\n"
      ]
     },
     "execution_count": 47,
     "metadata": {},
     "output_type": "execute_result"
    }
   ],
   "source": [
    "(e;2*e;e*e:exp 1)"
   ]
  },
  {
   "cell_type": "code",
   "execution_count": 48,
   "id": "02281b19-d26a-4157-a203-25ccce64b32e",
   "metadata": {},
   "outputs": [
    {
     "data": {
      "text/plain": [
       "7.389056\n"
      ]
     },
     "execution_count": 48,
     "metadata": {},
     "output_type": "execute_result"
    }
   ],
   "source": [
    "exp 2"
   ]
  },
  {
   "cell_type": "code",
   "execution_count": 49,
   "id": "b09025e2-60fd-46cf-93bf-77e59b277ba0",
   "metadata": {},
   "outputs": [
    {
     "data": {
      "text/plain": [
       "65536f\n"
      ]
     },
     "execution_count": 49,
     "metadata": {},
     "output_type": "execute_result"
    }
   ],
   "source": [
    "2 xexp 16"
   ]
  },
  {
   "cell_type": "code",
   "execution_count": 50,
   "id": "74140631-4f23-4ea4-9ee9-a8e0bf748ecd",
   "metadata": {},
   "outputs": [
    {
     "data": {
      "text/plain": [
       "2f\n"
      ]
     },
     "execution_count": 50,
     "metadata": {},
     "output_type": "execute_result"
    }
   ],
   "source": [
    "log exp 2"
   ]
  },
  {
   "cell_type": "code",
   "execution_count": 51,
   "id": "7ea0bd59-ba2c-42e8-9070-c8f4ed7fa791",
   "metadata": {},
   "outputs": [
    {
     "data": {
      "text/plain": [
       "16f\n"
      ]
     },
     "execution_count": 51,
     "metadata": {},
     "output_type": "execute_result"
    }
   ],
   "source": [
    "2 xlog 65536"
   ]
  },
  {
   "cell_type": "code",
   "execution_count": 52,
   "id": "c771d6ab-8a64-467c-90e3-992d77fec817",
   "metadata": {},
   "outputs": [
    {
     "data": {
      "text/plain": [
       "3.141593 6.283185 9.869604\n"
      ]
     },
     "execution_count": 52,
     "metadata": {},
     "output_type": "execute_result"
    }
   ],
   "source": [
    "a:(pi;2*pi;pi*pi:acos -1)\n",
    "a"
   ]
  },
  {
   "cell_type": "code",
   "execution_count": 53,
   "id": "eb64aec6-c293-4892-9c1d-20dd82a022f2",
   "metadata": {},
   "outputs": [
    {
     "data": {
      "text/plain": [
       "-1f\n"
      ]
     },
     "execution_count": 53,
     "metadata": {},
     "output_type": "execute_result"
    }
   ],
   "source": [
    "cos pi"
   ]
  },
  {
   "cell_type": "code",
   "execution_count": 54,
   "id": "d673744c-fdc5-4944-9a91-687028357910",
   "metadata": {},
   "outputs": [
    {
     "data": {
      "text/plain": [
       "1f\n"
      ]
     },
     "execution_count": 54,
     "metadata": {},
     "output_type": "execute_result"
    }
   ],
   "source": [
    "(t:sum{x*x}@(cos;sin)@\\:)pi"
   ]
  },
  {
   "cell_type": "code",
   "execution_count": 55,
   "id": "1d122884-e54e-4ed4-900e-12f32f0c5c4b",
   "metadata": {},
   "outputs": [
    {
     "data": {
      "text/plain": [
       "1 1 1f\n"
      ]
     },
     "execution_count": 55,
     "metadata": {},
     "output_type": "execute_result"
    }
   ],
   "source": [
    "t a"
   ]
  },
  {
   "cell_type": "code",
   "execution_count": 56,
   "id": "257d320a-d0b6-4184-baa1-ac3f73fed649",
   "metadata": {},
   "outputs": [
    {
     "data": {
      "text/plain": [
       "1 2 3\n",
       "2 4 6\n",
       "3 6 9\n"
      ]
     },
     "execution_count": 56,
     "metadata": {},
     "output_type": "execute_result"
    }
   ],
   "source": [
    "1 2 3*/:1 2 3"
   ]
  },
  {
   "cell_type": "code",
   "execution_count": 57,
   "id": "18a476d5-8f6a-46a7-b868-71a897ac4479",
   "metadata": {},
   "outputs": [
    {
     "data": {
      "text/plain": [
       "100b\n",
       "010b\n",
       "001b\n"
      ]
     },
     "execution_count": 57,
     "metadata": {},
     "output_type": "execute_result"
    }
   ],
   "source": [
    "{x=/:x}@til 3"
   ]
  },
  {
   "cell_type": "code",
   "execution_count": 58,
   "id": "320f4bcb-e819-4b95-8f61-56a67a298745",
   "metadata": {},
   "outputs": [
    {
     "data": {
      "text/plain": [
       "0 1 2\n",
       "3 4 5\n"
      ]
     },
     "execution_count": 58,
     "metadata": {},
     "output_type": "execute_result"
    }
   ],
   "source": [
    "2 3#til 6"
   ]
  },
  {
   "cell_type": "code",
   "execution_count": 59,
   "id": "aa37317b-0d48-4673-87d5-db88f8de2be7",
   "metadata": {},
   "outputs": [
    {
     "data": {
      "text/plain": [
       "0 1\n",
       "1 1\n"
      ]
     },
     "execution_count": 59,
     "metadata": {},
     "output_type": "execute_result"
    }
   ],
   "source": [
    "2 2#0 1 1 1"
   ]
  },
  {
   "cell_type": "code",
   "execution_count": 60,
   "id": "7b8e386a-2b99-4a02-8dfb-4b5a720c6bfa",
   "metadata": {},
   "outputs": [
    {
     "name": "stdout",
     "output_type": "stream",
     "text": [
      "0 1 2   3 4 5  \n",
      "6 7  8  9 10 11\n"
     ]
    }
   ],
   "source": [
    "show N:0 3_/:2 6#til 12"
   ]
  },
  {
   "cell_type": "code",
   "execution_count": 61,
   "id": "b32e9847-1169-459b-8d37-abc1cdb34d99",
   "metadata": {},
   "outputs": [
    {
     "data": {
      "text/plain": [
       "0 1 2 3 4 5 6 7 8 9 10 11\n"
      ]
     },
     "execution_count": 61,
     "metadata": {},
     "output_type": "execute_result"
    }
   ],
   "source": [
    "raze/[N]"
   ]
  },
  {
   "cell_type": "code",
   "execution_count": 62,
   "id": "5c1c9f77-ece1-4c16-b253-96b9bad373a6",
   "metadata": {},
   "outputs": [
    {
     "data": {
      "text/plain": [
       "0 1 2 3 4  5 \n",
       "6 7 8 9 10 11\n"
      ]
     },
     "execution_count": 62,
     "metadata": {},
     "output_type": "execute_result"
    }
   ],
   "source": [
    "raze each N"
   ]
  },
  {
   "cell_type": "code",
   "execution_count": 63,
   "id": "9b6fc224-fc81-44df-b855-354ae28f8429",
   "metadata": {},
   "outputs": [
    {
     "name": "stdout",
     "output_type": "stream",
     "text": [
      "\"ABC\"\n",
      "\"123\"\n",
      "\"!@#\"\n"
     ]
    }
   ],
   "source": [
    "show M:3 3#\"ABC123!@#\""
   ]
  },
  {
   "cell_type": "code",
   "execution_count": 64,
   "id": "b55bd24e-2c71-4a0c-8746-d984980d9001",
   "metadata": {},
   "outputs": [
    {
     "data": {
      "text/plain": [
       "\"ABC\" \"123\" \"!@#\"\n",
       "\"A1!\" \"B2@\" \"C3#\"\n",
       "\"!@#\" \"123\" \"ABC\"\n",
       "\"CBA\" \"321\" \"#@!\"\n",
       "\"123\" \"!@#\" \"ABC\"\n"
      ]
     },
     "execution_count": 64,
     "metadata": {},
     "output_type": "execute_result"
    }
   ],
   "source": [
    "(::;flip;reverse;reverse each;1 rotate)@\\:M"
   ]
  },
  {
   "cell_type": "code",
   "execution_count": 65,
   "id": "4e05ce4d-25ae-4ff4-be58-550c95181584",
   "metadata": {},
   "outputs": [
    {
     "data": {
      "text/plain": [
       ",\"A\"\n",
       "\"B1\"\n",
       "\"C2!\"\n",
       "\"3@\"\n",
       ",\"#\"\n"
      ]
     },
     "execution_count": 65,
     "metadata": {},
     "output_type": "execute_result"
    }
   ],
   "source": [
    "M ./:/:f value group sum each f:n cross n:til 3"
   ]
  },
  {
   "cell_type": "code",
   "execution_count": 66,
   "id": "6c9c8219-db3c-4514-aaf9-0fa21ad62d87",
   "metadata": {},
   "outputs": [
    {
     "data": {
      "text/plain": [
       "\"A2#\"\n"
      ]
     },
     "execution_count": 66,
     "metadata": {},
     "output_type": "execute_result"
    }
   ],
   "source": [
    "M ./:a,'a:til count M"
   ]
  },
  {
   "cell_type": "code",
   "execution_count": 67,
   "id": "eae13f70-eab3-4c9e-95b0-1dd48fa07da4",
   "metadata": {},
   "outputs": [
    {
     "data": {
      "text/plain": [
       "0 1 2   3 4 5  \n",
       "6 7  8  9 10 11\n"
      ]
     },
     "execution_count": 67,
     "metadata": {},
     "output_type": "execute_result"
    }
   ],
   "source": [
    "N:((0 1 2;3 4 5);(6 7 8;9 10 11))\n",
    "N"
   ]
  },
  {
   "cell_type": "code",
   "execution_count": 68,
   "id": "1d698083-9d0a-42c1-9bf6-5a3fefef7dcb",
   "metadata": {},
   "outputs": [
    {
     "data": {
      "text/plain": [
       "10\n"
      ]
     },
     "execution_count": 68,
     "metadata": {},
     "output_type": "execute_result"
    }
   ],
   "source": [
    "((N 1) 1) 1"
   ]
  },
  {
   "cell_type": "code",
   "execution_count": 69,
   "id": "ae6a6e1b-969a-41ab-83d7-6fd2ed6213ec",
   "metadata": {},
   "outputs": [
    {
     "data": {
      "text/plain": [
       "10\n"
      ]
     },
     "execution_count": 69,
     "metadata": {},
     "output_type": "execute_result"
    }
   ],
   "source": [
    "3@[;1]/N"
   ]
  },
  {
   "cell_type": "code",
   "execution_count": 70,
   "id": "ddf3320a-e8e2-4918-88e5-097c76057d59",
   "metadata": {},
   "outputs": [
    {
     "data": {
      "text/plain": [
       "10\n"
      ]
     },
     "execution_count": 70,
     "metadata": {},
     "output_type": "execute_result"
    }
   ],
   "source": [
    "N[1;1;1]"
   ]
  },
  {
   "cell_type": "code",
   "execution_count": 71,
   "id": "2f4ea576-65eb-48e7-bbb8-d57e56d253f5",
   "metadata": {},
   "outputs": [
    {
     "data": {
      "text/plain": [
       "10\n"
      ]
     },
     "execution_count": 71,
     "metadata": {},
     "output_type": "execute_result"
    }
   ],
   "source": [
    "N . 1 1 1"
   ]
  },
  {
   "cell_type": "code",
   "execution_count": 72,
   "id": "2ba2219a-6122-42d1-9075-3c026614e510",
   "metadata": {},
   "outputs": [
    {
     "data": {
      "text/plain": [
       "1 2 6 24 120f\n"
      ]
     },
     "execution_count": 72,
     "metadata": {},
     "output_type": "execute_result"
    }
   ],
   "source": [
    "each[f:{$[x<0;0;prd 1.+til x]}]1+til 5"
   ]
  },
  {
   "cell_type": "code",
   "execution_count": 73,
   "id": "5e06c051-2c0e-4272-b877-cee333aee683",
   "metadata": {},
   "outputs": [
    {
     "data": {
      "text/plain": [
       "1 2 6 24 120\n"
      ]
     },
     "execution_count": 73,
     "metadata": {},
     "output_type": "execute_result"
    }
   ],
   "source": [
    "prds 1+til 5"
   ]
  },
  {
   "cell_type": "code",
   "execution_count": 74,
   "id": "8315d7a3-556c-49ab-84ab-2bd0b048c9e0",
   "metadata": {},
   "outputs": [
    {
     "data": {
      "text/plain": [
       "1 1 1 1 1\n",
       "0 1 2 3 4\n",
       "0 0 1 3 6\n",
       "0 0 0 1 4\n",
       "0 0 0 0 1\n"
      ]
     },
     "execution_count": 74,
     "metadata": {},
     "output_type": "execute_result"
    }
   ],
   "source": [
    "(b:{til[x]{$[x<y;0;floor f[x]%f[y]*f x-y]}\\:/:til x})5"
   ]
  },
  {
   "cell_type": "code",
   "execution_count": 75,
   "id": "c3a152e8-2243-4af4-b947-7379cf46e95b",
   "metadata": {},
   "outputs": [
    {
     "data": {
      "text/plain": [
       "1 1 2 3 5 8 13 21 34 55 89 144 233 377 610\n"
      ]
     },
     "execution_count": 75,
     "metadata": {},
     "output_type": "execute_result"
    }
   ],
   "source": [
    "1_{sum b[x]./:flip(til x;reverse til x)}each til 16"
   ]
  },
  {
   "cell_type": "code",
   "execution_count": 76,
   "id": "03f8a278-164f-4235-a143-f4a2cfbee2d0",
   "metadata": {},
   "outputs": [
    {
     "data": {
      "text/plain": [
       "14f\n"
      ]
     },
     "execution_count": 76,
     "metadata": {},
     "output_type": "execute_result"
    }
   ],
   "source": [
    "1 2 3 wsum 1 2 3"
   ]
  },
  {
   "cell_type": "code",
   "execution_count": 77,
   "id": "aaf6554e-8a37-4600-ba8e-7066f6608efc",
   "metadata": {},
   "outputs": [
    {
     "data": {
      "text/plain": [
       "14f\n"
      ]
     },
     "execution_count": 77,
     "metadata": {},
     "output_type": "execute_result"
    }
   ],
   "source": [
    "1 2 3.$1 2 3."
   ]
  },
  {
   "cell_type": "code",
   "execution_count": 78,
   "id": "e5427259-9a37-4180-b321-91d4e841fc5c",
   "metadata": {},
   "outputs": [
    {
     "data": {
      "text/plain": [
       "1 1\n",
       "1 2\n"
      ]
     },
     "execution_count": 78,
     "metadata": {},
     "output_type": "execute_result"
    }
   ],
   "source": [
    "M:(0 1.;1 1.)\n",
    "M$M"
   ]
  },
  {
   "cell_type": "code",
   "execution_count": 79,
   "id": "343226f1-a61b-47a7-81b8-15f2ebf3e58a",
   "metadata": {},
   "outputs": [
    {
     "data": {
      "text/plain": [
       "610 987 \n",
       "987 1597\n"
      ]
     },
     "execution_count": 79,
     "metadata": {},
     "output_type": "execute_result"
    }
   ],
   "source": [
    "15$[M]/M"
   ]
  },
  {
   "cell_type": "code",
   "execution_count": 80,
   "id": "d318e494-9e1b-4253-a478-eaa899874b6e",
   "metadata": {},
   "outputs": [
    {
     "data": {
      "text/plain": [
       "1 1 2 3 5 8 13 21 34 55 89 144 233 377 610f\n"
      ]
     },
     "execution_count": 80,
     "metadata": {},
     "output_type": "execute_result"
    }
   ],
   "source": [
    "(14$[M]\\M)[;0;1]"
   ]
  },
  {
   "cell_type": "code",
   "execution_count": 81,
   "id": "aed7aefd-8486-499d-a98d-c837c731e6ab",
   "metadata": {},
   "outputs": [
    {
     "data": {
      "text/plain": [
       "0.3927524 0.5170911 0.5159796 0.4066642 0.1780839\n"
      ]
     },
     "execution_count": 81,
     "metadata": {},
     "output_type": "execute_result"
    }
   ],
   "source": [
    "A:5?1.;A"
   ]
  },
  {
   "cell_type": "code",
   "execution_count": 82,
   "id": "b253d767-00ac-4956-b156-bdba763f5035",
   "metadata": {},
   "outputs": [
    {
     "data": {
      "text/plain": [
       "1 0 1 0 1 0 1 1 0 0\n"
      ]
     },
     "execution_count": 82,
     "metadata": {},
     "output_type": "execute_result"
    }
   ],
   "source": [
    "B:10?2;B"
   ]
  },
  {
   "cell_type": "code",
   "execution_count": 83,
   "id": "1d35bb3d-636d-4865-a5df-2b3367311146",
   "metadata": {},
   "outputs": [
    {
     "data": {
      "text/plain": [
       "1101010111b\n"
      ]
     },
     "execution_count": 83,
     "metadata": {},
     "output_type": "execute_result"
    }
   ],
   "source": [
    "B1:10?0b;B1"
   ]
  },
  {
   "cell_type": "code",
   "execution_count": 84,
   "id": "0a380c71-f8c8-4d2e-936e-9f1b282ace0a",
   "metadata": {},
   "outputs": [
    {
     "data": {
      "text/plain": [
       "0 2 1\n"
      ]
     },
     "execution_count": 84,
     "metadata": {},
     "output_type": "execute_result"
    }
   ],
   "source": [
    "C:-3?3;C"
   ]
  },
  {
   "cell_type": "code",
   "execution_count": 85,
   "id": "8952f546-65ed-4ef0-8747-0b8259430fee",
   "metadata": {},
   "outputs": [
    {
     "data": {
      "text/plain": [
       "0.1780839 0.5170911\n"
      ]
     },
     "execution_count": 85,
     "metadata": {},
     "output_type": "execute_result"
    }
   ],
   "source": [
    "(min;max)@\\:A"
   ]
  },
  {
   "cell_type": "code",
   "execution_count": 86,
   "id": "b2e28d04-fef8-4864-bdfe-d426015be47a",
   "metadata": {},
   "outputs": [
    {
     "data": {
      "text/plain": [
       "1\n"
      ]
     },
     "execution_count": 86,
     "metadata": {},
     "output_type": "execute_result"
    }
   ],
   "source": [
    "B?0"
   ]
  },
  {
   "cell_type": "code",
   "execution_count": 87,
   "id": "e8647e22-b346-4423-8e06-22bf95fe256a",
   "metadata": {},
   "outputs": [
    {
     "data": {
      "text/plain": [
       "0.1662\n"
      ]
     },
     "execution_count": 87,
     "metadata": {},
     "output_type": "execute_result"
    }
   ],
   "source": [
    "avg C~/:1_10000{-3?3}\\()"
   ]
  },
  {
   "cell_type": "code",
   "execution_count": 88,
   "id": "ee8db31b-228f-41cc-9bec-ec98b90193c5",
   "metadata": {},
   "outputs": [
    {
     "data": {
      "text/plain": [
       "0.1666667\n"
      ]
     },
     "execution_count": 88,
     "metadata": {},
     "output_type": "execute_result"
    }
   ],
   "source": [
    "reciprocal f 3"
   ]
  },
  {
   "cell_type": "code",
   "execution_count": 89,
   "id": "ef2ab83a-f987-4774-a5b8-cabc41259c28",
   "metadata": {},
   "outputs": [
    {
     "data": {
      "text/plain": [
       "\"misp\"\n"
      ]
     },
     "execution_count": 89,
     "metadata": {},
     "output_type": "execute_result"
    }
   ],
   "source": [
    "D:distinct S:\"mississippi\"\n",
    "D"
   ]
  },
  {
   "cell_type": "code",
   "execution_count": 90,
   "id": "3eb6d27f-fe51-46a1-a49a-342fb000e652",
   "metadata": {},
   "outputs": [
    {
     "data": {
      "text/plain": [
       "0 1 2 2 1 2 2 1 3 3 1\n"
      ]
     },
     "execution_count": 90,
     "metadata": {},
     "output_type": "execute_result"
    }
   ],
   "source": [
    "K:D?S;K"
   ]
  },
  {
   "cell_type": "code",
   "execution_count": 91,
   "id": "f51a518d-4c78-4917-a97d-06200beda6bf",
   "metadata": {},
   "outputs": [
    {
     "data": {
      "text/plain": [
       ",\"m\"\n",
       "\"iiii\"\n",
       "\"ssss\"\n",
       "\"pp\"\n"
      ]
     },
     "execution_count": 91,
     "metadata": {},
     "output_type": "execute_result"
    }
   ],
   "source": [
    "S value group K"
   ]
  },
  {
   "cell_type": "code",
   "execution_count": 92,
   "id": "69e8046e-3c12-4502-8f6b-805a08ad792c",
   "metadata": {},
   "outputs": [
    {
     "data": {
      "text/plain": [
       "m| 1\n",
       "i| 4\n",
       "s| 4\n",
       "p| 2\n"
      ]
     },
     "execution_count": 92,
     "metadata": {},
     "output_type": "execute_result"
    }
   ],
   "source": [
    "count each group S"
   ]
  },
  {
   "cell_type": "code",
   "execution_count": 93,
   "id": "0ca2616c-9c26-4bfc-bbb4-504b37d3b3c0",
   "metadata": {},
   "outputs": [
    {
     "data": {
      "text/plain": [
       "11100000100b\n"
      ]
     },
     "execution_count": 93,
     "metadata": {},
     "output_type": "execute_result"
    }
   ],
   "source": [
    "I:(til count S)in first each group S;I"
   ]
  },
  {
   "cell_type": "code",
   "execution_count": 94,
   "id": "6cf34dbd-d0ab-4158-b046-7bd6737c8547",
   "metadata": {},
   "outputs": [
    {
     "data": {
      "text/plain": [
       "\"misp\"\n"
      ]
     },
     "execution_count": 94,
     "metadata": {},
     "output_type": "execute_result"
    }
   ],
   "source": [
    "S where I"
   ]
  },
  {
   "cell_type": "code",
   "execution_count": 95,
   "id": "4e9cb5ee-9e50-423b-9044-ffa237b1ec1d",
   "metadata": {},
   "outputs": [
    {
     "data": {
      "text/plain": [
       "1 4 4 2i\n"
      ]
     },
     "execution_count": 95,
     "metadata": {},
     "output_type": "execute_result"
    }
   ],
   "source": [
    "sum D=/:S"
   ]
  }
 ],
 "metadata": {
  "kernelspec": {
   "display_name": "Q (kdb+)",
   "language": "q",
   "name": "qpk"
  },
  "language_info": {
   "file_extension": ".q",
   "mimetype": "text/x-q",
   "name": "q",
   "version": "4.1.0"
  }
 },
 "nbformat": 4,
 "nbformat_minor": 5
}
